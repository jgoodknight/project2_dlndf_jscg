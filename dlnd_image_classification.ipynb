{
 "cells": [
  {
   "cell_type": "markdown",
   "metadata": {
    "collapsed": true,
    "deletable": true,
    "editable": true
   },
   "source": [
    "# Image Classification\n",
    "In this project, you'll classify images from the [CIFAR-10 dataset](https://www.cs.toronto.edu/~kriz/cifar.html).  The dataset consists of airplanes, dogs, cats, and other objects. You'll preprocess the images, then train a convolutional neural network on all the samples. The images need to be normalized and the labels need to be one-hot encoded.  You'll get to apply what you learned and build a convolutional, max pooling, dropout, and fully connected layers.  At the end, you'll get to see your neural network's predictions on the sample images.\n",
    "## Get the Data\n",
    "Run the following cell to download the [CIFAR-10 dataset for python](https://www.cs.toronto.edu/~kriz/cifar-10-python.tar.gz)."
   ]
  },
  {
   "cell_type": "code",
   "execution_count": 1,
   "metadata": {
    "collapsed": false,
    "deletable": true,
    "editable": true
   },
   "outputs": [
    {
     "name": "stderr",
     "output_type": "stream",
     "text": [
      "CIFAR-10 Dataset: 171MB [00:36, 4.65MB/s]                              \n"
     ]
    },
    {
     "name": "stdout",
     "output_type": "stream",
     "text": [
      "All files found!\n"
     ]
    }
   ],
   "source": [
    "\"\"\"\n",
    "DON'T MODIFY ANYTHING IN THIS CELL THAT IS BELOW THIS LINE\n",
    "\"\"\"\n",
    "from urllib.request import urlretrieve\n",
    "from os.path import isfile, isdir\n",
    "from tqdm import tqdm\n",
    "import problem_unittests as tests\n",
    "import tarfile\n",
    "\n",
    "cifar10_dataset_folder_path = 'cifar-10-batches-py'\n",
    "\n",
    "class DLProgress(tqdm):\n",
    "    last_block = 0\n",
    "\n",
    "    def hook(self, block_num=1, block_size=1, total_size=None):\n",
    "        self.total = total_size\n",
    "        self.update((block_num - self.last_block) * block_size)\n",
    "        self.last_block = block_num\n",
    "\n",
    "if not isfile('cifar-10-python.tar.gz'):\n",
    "    with DLProgress(unit='B', unit_scale=True, miniters=1, desc='CIFAR-10 Dataset') as pbar:\n",
    "        urlretrieve(\n",
    "            'https://www.cs.toronto.edu/~kriz/cifar-10-python.tar.gz',\n",
    "            'cifar-10-python.tar.gz',\n",
    "            pbar.hook)\n",
    "\n",
    "if not isdir(cifar10_dataset_folder_path):\n",
    "    with tarfile.open('cifar-10-python.tar.gz') as tar:\n",
    "        tar.extractall()\n",
    "        tar.close()\n",
    "\n",
    "\n",
    "tests.test_folder_path(cifar10_dataset_folder_path)"
   ]
  },
  {
   "cell_type": "markdown",
   "metadata": {
    "deletable": true,
    "editable": true
   },
   "source": [
    "## Explore the Data\n",
    "The dataset is broken into batches to prevent your machine from running out of memory.  The CIFAR-10 dataset consists of 5 batches, named `data_batch_1`, `data_batch_2`, etc.. Each batch contains the labels and images that are one of the following:\n",
    "* airplane\n",
    "* automobile\n",
    "* bird\n",
    "* cat\n",
    "* deer\n",
    "* dog\n",
    "* frog\n",
    "* horse\n",
    "* ship\n",
    "* truck\n",
    "\n",
    "Understanding a dataset is part of making predictions on the data.  Play around with the code cell below by changing the `batch_id` and `sample_id`. The `batch_id` is the id for a batch (1-5). The `sample_id` is the id for a image and label pair in the batch.\n",
    "\n",
    "Ask yourself \"What are all possible labels?\", \"What is the range of values for the image data?\", \"Are the labels in order or random?\".  Answers to questions like these will help you preprocess the data and end up with better predictions."
   ]
  },
  {
   "cell_type": "code",
   "execution_count": 4,
   "metadata": {
    "collapsed": false,
    "deletable": true,
    "editable": true
   },
   "outputs": [
    {
     "name": "stdout",
     "output_type": "stream",
     "text": [
      "\n",
      "Stats of batch 1:\n",
      "Samples: 10000\n",
      "Label Counts: {0: 1005, 1: 974, 2: 1032, 3: 1016, 4: 999, 5: 937, 6: 1030, 7: 1001, 8: 1025, 9: 981}\n",
      "First 20 Labels: [6, 9, 9, 4, 1, 1, 2, 7, 8, 3, 4, 7, 7, 2, 9, 9, 9, 3, 2, 6]\n",
      "\n",
      "Example of Image 16:\n",
      "Image - Min Value: 2 Max Value: 255\n",
      "Image - Shape: (32, 32, 3)\n",
      "Label - Label Id: 9 Name: truck\n"
     ]
    },
    {
     "data": {
      "image/png": "[encoded data removed]",
      "text/plain": [
       "<matplotlib.figure.Figure at 0x7f43a7fe8fd0>"
      ]
     },
     "metadata": {
      "image/png": {
       "height": 250,
       "width": 253
      }
     },
     "output_type": "display_data"
    }
   ],
   "source": [
    "%matplotlib inline\n",
    "%config InlineBackend.figure_format = 'retina'\n",
    "\n",
    "import helper\n",
    "import numpy as np\n",
    "\n",
    "# Explore the dataset\n",
    "batch_id = 1\n",
    "sample_id = np.random.randint(100)\n",
    "helper.display_stats(cifar10_dataset_folder_path, batch_id, sample_id)"
   ]
  },
  {
   "cell_type": "markdown",
   "metadata": {
    "deletable": true,
    "editable": true
   },
   "source": [
    "## Implement Preprocess Functions\n",
    "### Normalize\n",
    "In the cell below, implement the `normalize` function to take in image data, `x`, and return it as a normalized Numpy array. The values should be in the range of 0 to 1, inclusive.  The return object should be the same shape as `x`."
   ]
  },
  {
   "cell_type": "code",
   "execution_count": 6,
   "metadata": {
    "collapsed": false,
    "deletable": true,
    "editable": true
   },
   "outputs": [
    {
     "name": "stdout",
     "output_type": "stream",
     "text": [
      "Tests Passed\n"
     ]
    }
   ],
   "source": [
    "def normalize(x):\n",
    "    \"\"\"\n",
    "    Normalize a list of sample image data in the range of 0 to 1\n",
    "    : x: List of image data.  The image shape is (32, 32, 3)\n",
    "    : return: Numpy array of normalize data\n",
    "    \"\"\"\n",
    "    min_val = np.min(x)\n",
    "    max_val = np.max(x)\n",
    "    return x/max_val\n",
    "\n",
    "\n",
    "\"\"\"\n",
    "DON'T MODIFY ANYTHING IN THIS CELL THAT IS BELOW THIS LINE\n",
    "\"\"\"\n",
    "tests.test_normalize(normalize)"
   ]
  },
  {
   "cell_type": "markdown",
   "metadata": {
    "deletable": true,
    "editable": true
   },
   "source": [
    "### One-hot encode\n",
    "Just like the previous code cell, you'll be implementing a function for preprocessing.  This time, you'll implement the `one_hot_encode` function. The input, `x`, are a list of labels.  Implement the function to return the list of labels as One-Hot encoded Numpy array.  The possible values for labels are 0 to 9. The one-hot encoding function should return the same encoding for each value between each call to `one_hot_encode`.  Make sure to save the map of encodings outside the function.\n",
    "\n",
    "Hint: Don't reinvent the wheel."
   ]
  },
  {
   "cell_type": "code",
   "execution_count": 8,
   "metadata": {
    "collapsed": false,
    "deletable": true,
    "editable": true
   },
   "outputs": [
    {
     "name": "stdout",
     "output_type": "stream",
     "text": [
      "Tests Passed\n"
     ]
    }
   ],
   "source": [
    "hot_encoding_dictionary = {}\n",
    "\n",
    "def one_hot_encode(x):\n",
    "    \"\"\"\n",
    "    One hot encode a list of sample labels. Return a one-hot encoded vector for each label.\n",
    "    : x: List of sample Labels\n",
    "    : return: Numpy array of one-hot encoded labels\n",
    "    \"\"\"\n",
    "    output = np.zeros((len(x), num_labels))\n",
    "    for data_index, label_value in enumerate(x):\n",
    "        output[data_index, label_value] = 1\n",
    "    return output\n",
    "\n",
    "\n",
    "\"\"\"\n",
    "DON'T MODIFY ANYTHING IN THIS CELL THAT IS BELOW THIS LINE\n",
    "\"\"\"\n",
    "tests.test_one_hot_encode(one_hot_encode)"
   ]
  },
  {
   "cell_type": "markdown",
   "metadata": {
    "deletable": true,
    "editable": true
   },
   "source": [
    "### Randomize Data\n",
    "As you saw from exploring the data above, the order of the samples are randomized.  It doesn't hurt to randomize it again, but you don't need to for this dataset."
   ]
  },
  {
   "cell_type": "markdown",
   "metadata": {
    "deletable": true,
    "editable": true
   },
   "source": [
    "## Preprocess all the data and save it\n",
    "Running the code cell below will preprocess all the CIFAR-10 data and save it to file. The code below also uses 10% of the training data for validation."
   ]
  },
  {
   "cell_type": "code",
   "execution_count": 11,
   "metadata": {
    "collapsed": false,
    "deletable": true,
    "editable": true
   },
   "outputs": [],
   "source": [
    "\"\"\"\n",
    "DON'T MODIFY ANYTHING IN THIS CELL\n",
    "\"\"\"\n",
    "# Preprocess Training, Validation, and Testing Data\n",
    "helper.preprocess_and_save_data(cifar10_dataset_folder_path, normalize, one_hot_encode)"
   ]
  },
  {
   "cell_type": "markdown",
   "metadata": {
    "deletable": true,
    "editable": true
   },
   "source": [
    "# Check Point\n",
    "This is your first checkpoint.  If you ever decide to come back to this notebook or have to restart the notebook, you can start from here.  The preprocessed data has been saved to disk."
   ]
  },
  {
   "cell_type": "code",
   "execution_count": 1,
   "metadata": {
    "collapsed": true,
    "deletable": true,
    "editable": true
   },
   "outputs": [],
   "source": [
    "num_labels = 10\n",
    "\"\"\"\n",
    "DON'T MODIFY ANYTHING IN THIS CELL (I'm a rebel!)\n",
    "\"\"\"\n",
    "import pickle\n",
    "\n",
    "import problem_unittests as tests\n",
    "import helper\n",
    "import numpy as np\n",
    "\n",
    "# Load the Preprocessed Validation data\n",
    "valid_features, valid_labels = pickle.load(open('preprocess_validation.p', mode='rb'))"
   ]
  },
  {
   "cell_type": "markdown",
   "metadata": {
    "deletable": true,
    "editable": true
   },
   "source": [
    "## Build the network\n",
    "For the neural network, you'll build each layer into a function.  Most of the code you've seen has been outside of functions. To test your code more thoroughly, we require that you put each layer in a function.  This allows us to give you better feedback and test for simple mistakes using our unittests before you submit your project.\n",
    "\n",
    ">**Note:** If you're finding it hard to dedicate enough time for this course each week, we've provided a small shortcut to this part of the project. In the next couple of problems, you'll have the option to use classes from the [TensorFlow Layers](https://www.tensorflow.org/api_docs/python/tf/layers) or [TensorFlow Layers (contrib)](https://www.tensorflow.org/api_guides/python/contrib.layers) packages to build each layer, except the layers you build in the \"Convolutional and Max Pooling Layer\" section.  TF Layers is similar to Keras's and TFLearn's abstraction to layers, so it's easy to pickup.\n",
    "\n",
    ">However, if you would like to get the most out of this course, try to solve all the problems _without_ using anything from the TF Layers packages. You **can** still use classes from other packages that happen to have the same name as ones you find in TF Layers! For example, instead of using the TF Layers version of the `conv2d` class, [tf.layers.conv2d](https://www.tensorflow.org/api_docs/python/tf/layers/conv2d), you would want to use the TF Neural Network version of `conv2d`, [tf.nn.conv2d](https://www.tensorflow.org/api_docs/python/tf/nn/conv2d). \n",
    "\n",
    "Let's begin!\n",
    "\n",
    "### Input\n",
    "The neural network needs to read the image data, one-hot encoded labels, and dropout keep probability. Implement the following functions\n",
    "* Implement `neural_net_image_input`\n",
    " * Return a [TF Placeholder](https://www.tensorflow.org/api_docs/python/tf/placeholder)\n",
    " * Set the shape using `image_shape` with batch size set to `None`.\n",
    " * Name the TensorFlow placeholder \"x\" using the TensorFlow `name` parameter in the [TF Placeholder](https://www.tensorflow.org/api_docs/python/tf/placeholder).\n",
    "* Implement `neural_net_label_input`\n",
    " * Return a [TF Placeholder](https://www.tensorflow.org/api_docs/python/tf/placeholder)\n",
    " * Set the shape using `n_classes` with batch size set to `None`.\n",
    " * Name the TensorFlow placeholder \"y\" using the TensorFlow `name` parameter in the [TF Placeholder](https://www.tensorflow.org/api_docs/python/tf/placeholder).\n",
    "* Implement `neural_net_keep_prob_input`\n",
    " * Return a [TF Placeholder](https://www.tensorflow.org/api_docs/python/tf/placeholder) for dropout keep probability.\n",
    " * Name the TensorFlow placeholder \"keep_prob\" using the TensorFlow `name` parameter in the [TF Placeholder](https://www.tensorflow.org/api_docs/python/tf/placeholder).\n",
    "\n",
    "These names will be used at the end of the project to load your saved model.\n",
    "\n",
    "Note: `None` for shapes in TensorFlow allow for a dynamic size."
   ]
  },
  {
   "cell_type": "code",
   "execution_count": 2,
   "metadata": {
    "collapsed": false,
    "deletable": true,
    "editable": true
   },
   "outputs": [
    {
     "name": "stdout",
     "output_type": "stream",
     "text": [
      "Image Input Tests Passed.\n",
      "Label Input Tests Passed.\n",
      "Keep Prob Tests Passed.\n"
     ]
    }
   ],
   "source": [
    "import tensorflow as tf\n",
    "\n",
    "def neural_net_image_input(image_shape):\n",
    "    \"\"\"\n",
    "    Return a Tensor for a batch of image input\n",
    "    : image_shape: Shape of the images\n",
    "    : return: Tensor for image input.\n",
    "    \"\"\"\n",
    "    output = tf.placeholder(tf.float32, [None, *image_shape], name=\"x\")\n",
    "    return output\n",
    "\n",
    "\n",
    "def neural_net_label_input(n_classes):\n",
    "    \"\"\"\n",
    "    Return a Tensor for a batch of label input\n",
    "    : n_classes: Number of classes\n",
    "    : return: Tensor for label input.\n",
    "    \"\"\"\n",
    "    return tf.placeholder(tf.int32, [None, n_classes], name=\"y\")\n",
    "\n",
    "\n",
    "def neural_net_keep_prob_input():\n",
    "    \"\"\"\n",
    "    Return a Tensor for keep probability\n",
    "    : return: Tensor for keep probability.\n",
    "    \"\"\"\n",
    "    return tf.placeholder(tf.float32, name=\"keep_prob\")\n",
    "\n",
    "\n",
    "\"\"\"\n",
    "DON'T MODIFY ANYTHING IN THIS CELL THAT IS BELOW THIS LINE\n",
    "\"\"\"\n",
    "tf.reset_default_graph()\n",
    "tests.test_nn_image_inputs(neural_net_image_input)\n",
    "tests.test_nn_label_inputs(neural_net_label_input)\n",
    "tests.test_nn_keep_prob_inputs(neural_net_keep_prob_input)"
   ]
  },
  {
   "cell_type": "markdown",
   "metadata": {
    "deletable": true,
    "editable": true
   },
   "source": [
    "### Convolution and Max Pooling Layer\n",
    "Convolution layers have a lot of success with images. For this code cell, you should implement the function `conv2d_maxpool` to apply convolution then max pooling:\n",
    "* Create the weight and bias using `conv_ksize`, `conv_num_outputs` and the shape of `x_tensor`.\n",
    "* Apply a convolution to `x_tensor` using weight and `conv_strides`.\n",
    " * We recommend you use same padding, but you're welcome to use any padding.\n",
    "* Add bias\n",
    "* Add a nonlinear activation to the convolution.\n",
    "* Apply Max Pooling using `pool_ksize` and `pool_strides`.\n",
    " * We recommend you use same padding, but you're welcome to use any padding.\n",
    "\n",
    "**Note:** You **can't** use [TensorFlow Layers](https://www.tensorflow.org/api_docs/python/tf/layers) or [TensorFlow Layers (contrib)](https://www.tensorflow.org/api_guides/python/contrib.layers) for **this** layer, but you can still use TensorFlow's [Neural Network](https://www.tensorflow.org/api_docs/python/tf/nn) package. You may still use the shortcut option for all the **other** layers."
   ]
  },
  {
   "cell_type": "code",
   "execution_count": 3,
   "metadata": {
    "collapsed": false,
    "deletable": true,
    "editable": true
   },
   "outputs": [
    {
     "name": "stdout",
     "output_type": "stream",
     "text": [
      "Tests Passed\n"
     ]
    }
   ],
   "source": [
    "def conv2d_maxpool(x_tensor, conv_num_outputs, conv_ksize, conv_strides, pool_ksize, pool_strides):\n",
    "    \"\"\"\n",
    "    Apply convolution then max pooling to x_tensor\n",
    "    :param x_tensor: TensorFlow Tensor\n",
    "    :param conv_num_outputs: Number of outputs for the convolutional layer\n",
    "    :param conv_ksize: kernal size 2-D Tuple for the convolutional layer\n",
    "    :param conv_strides: Stride 2-D Tuple for convolution\n",
    "    :param pool_ksize: kernal size 2-D Tuple for pool\n",
    "    :param pool_strides: Stride 2-D Tuple for pool\n",
    "    : return: A tensor that represents convolution and max pooling of x_tensor\n",
    "    \"\"\"\n",
    "    #get the size of the color channel\n",
    "    number_color_channels = int(x_tensor.get_shape()[-1])\n",
    "    \n",
    "    #create the variables needed\n",
    "    conv_later_weights = tf.Variable(tf.truncated_normal([*conv_ksize, number_color_channels, conv_num_outputs]))\n",
    "    bias_layer = tf.Variable(tf.zeros(conv_num_outputs))\n",
    "    \n",
    "    #construct the convolutional layer\n",
    "    conv_layer = tf.nn.conv2d(x_tensor, conv_later_weights, strides=[1 , *conv_strides, 1], padding='SAME')\n",
    "    conv_layer = tf.nn.bias_add(conv_layer, bias_layer)\n",
    "    \n",
    "    #apply a nonlinear activation\n",
    "    relu_layer = tf.nn.relu(conv_layer)\n",
    "    \n",
    "    #perform max pooling\n",
    "    pool_layer = tf.nn.max_pool(relu_layer,\n",
    "                                ksize=[1, *pool_ksize, 1],\n",
    "                                strides=[1, *pool_strides,1],\n",
    "                                padding='SAME')\n",
    "\n",
    "    return pool_layer \n",
    "\n",
    "\n",
    "\"\"\"\n",
    "DON'T MODIFY ANYTHING IN THIS CELL THAT IS BELOW THIS LINE\n",
    "\"\"\"\n",
    "tests.test_con_pool(conv2d_maxpool)"
   ]
  },
  {
   "cell_type": "markdown",
   "metadata": {
    "deletable": true,
    "editable": true
   },
   "source": [
    "### Flatten Layer\n",
    "Implement the `flatten` function to change the dimension of `x_tensor` from a 4-D tensor to a 2-D tensor.  The output should be the shape (*Batch Size*, *Flattened Image Size*). Shortcut option: you can use classes from the [TensorFlow Layers](https://www.tensorflow.org/api_docs/python/tf/layers) or [TensorFlow Layers (contrib)](https://www.tensorflow.org/api_guides/python/contrib.layers) packages for this layer. For more of a challenge, only use other TensorFlow packages."
   ]
  },
  {
   "cell_type": "code",
   "execution_count": 4,
   "metadata": {
    "collapsed": false,
    "deletable": true,
    "editable": true
   },
   "outputs": [
    {
     "name": "stdout",
     "output_type": "stream",
     "text": [
      "Tests Passed\n"
     ]
    }
   ],
   "source": [
    "def flatten(x_tensor):\n",
    "    \"\"\"\n",
    "    Flatten x_tensor to (Batch Size, Flattened Image Size)\n",
    "    : x_tensor: A tensor of size (Batch Size, ...), where ... are the image dimensions.\n",
    "    : return: A tensor of size (Batch Size, Flattened Image Size).\n",
    "    \"\"\"\n",
    "    #get the old size\n",
    "    old_size = x_tensor.get_shape()\n",
    "    total_number_of_data_points = int(old_size[1]) * int(old_size[2]) * int(old_size[3])\n",
    "    x_tensor_flattened = tf.reshape(x_tensor, [-1, total_number_of_data_points])\n",
    "    #I have no idea why [None, total_number_of_data_points] didn't work there...\n",
    "    return x_tensor_flattened\n",
    "\n",
    "\n",
    "\"\"\"\n",
    "DON'T MODIFY ANYTHING IN THIS CELL THAT IS BELOW THIS LINE\n",
    "\"\"\"\n",
    "tests.test_flatten(flatten)"
   ]
  },
  {
   "cell_type": "markdown",
   "metadata": {
    "deletable": true,
    "editable": true
   },
   "source": [
    "### Fully-Connected Layer\n",
    "Implement the `fully_conn` function to apply a fully connected layer to `x_tensor` with the shape (*Batch Size*, *num_outputs*). Shortcut option: you can use classes from the [TensorFlow Layers](https://www.tensorflow.org/api_docs/python/tf/layers) or [TensorFlow Layers (contrib)](https://www.tensorflow.org/api_guides/python/contrib.layers) packages for this layer. For more of a challenge, only use other TensorFlow packages."
   ]
  },
  {
   "cell_type": "code",
   "execution_count": 5,
   "metadata": {
    "collapsed": false,
    "deletable": true,
    "editable": true
   },
   "outputs": [
    {
     "name": "stdout",
     "output_type": "stream",
     "text": [
      "Tests Passed\n"
     ]
    }
   ],
   "source": [
    "def fully_conn(x_tensor, num_outputs):\n",
    "    \"\"\"\n",
    "    Apply a fully connected layer to x_tensor using weight and bias\n",
    "    : x_tensor: A 2-D tensor where the first dimension is batch size.\n",
    "    : num_outputs: The number of output that the new tensor should be.\n",
    "    : return: A 2-D tensor where the second dimension is num_outputs.\n",
    "    \"\"\"\n",
    "    #calculate shapes\n",
    "    input_shape = x_tensor.get_shape().as_list()\n",
    "    weight_shape = [*input_shape[1:], num_outputs]\n",
    "    \n",
    "    #initialize weights\n",
    "    layer_weights = tf.Variable(tf.truncated_normal(weight_shape))\n",
    "    bias_terms = tf.Variable(tf.zeros(num_outputs))\n",
    "    \n",
    "    #perform calculations\n",
    "    linear_transform = tf.matmul(x_tensor, layer_weights)\n",
    "    linear_transform = tf.add(linear_transform, bias_terms)\n",
    "    \n",
    "    return linear_transform\n",
    "\n",
    "\n",
    "\"\"\"\n",
    "DON'T MODIFY ANYTHING IN THIS CELL THAT IS BELOW THIS LINE\n",
    "\"\"\"\n",
    "tests.test_fully_conn(fully_conn)"
   ]
  },
  {
   "cell_type": "markdown",
   "metadata": {
    "deletable": true,
    "editable": true
   },
   "source": [
    "### Output Layer\n",
    "Implement the `output` function to apply a fully connected layer to `x_tensor` with the shape (*Batch Size*, *num_outputs*). Shortcut option: you can use classes from the [TensorFlow Layers](https://www.tensorflow.org/api_docs/python/tf/layers) or [TensorFlow Layers (contrib)](https://www.tensorflow.org/api_guides/python/contrib.layers) packages for this layer. For more of a challenge, only use other TensorFlow packages.\n",
    "\n",
    "**Note:** Activation, softmax, or cross entropy should **not** be applied to this."
   ]
  },
  {
   "cell_type": "code",
   "execution_count": 6,
   "metadata": {
    "collapsed": false,
    "deletable": true,
    "editable": true
   },
   "outputs": [
    {
     "name": "stdout",
     "output_type": "stream",
     "text": [
      "Tests Passed\n"
     ]
    }
   ],
   "source": [
    "def output(x_tensor, num_outputs):\n",
    "    \"\"\"\n",
    "    Apply a output layer to x_tensor using weight and bias\n",
    "    : x_tensor: A 2-D tensor where the first dimension is batch size.\n",
    "    : num_outputs: The number of output that the new tensor should be.\n",
    "    : return: A 2-D tensor where the second dimension is num_outputs.\n",
    "    \"\"\"\n",
    "    #calculate shapes\n",
    "    input_shape = x_tensor.get_shape().as_list()\n",
    "    weight_shape = [*input_shape[1:], num_outputs]\n",
    "    \n",
    "    #initialize weights\n",
    "    layer_weights = tf.Variable(tf.truncated_normal(weight_shape))\n",
    "    bias_terms = tf.Variable(tf.zeros(num_outputs))\n",
    "    \n",
    "    #perform calculations\n",
    "    linear_transform = tf.matmul(x_tensor, layer_weights)\n",
    "    linear_transform = tf.add(linear_transform, bias_terms)\n",
    "    \n",
    "    return linear_transform\n",
    "\n",
    "\n",
    "\"\"\"\n",
    "DON'T MODIFY ANYTHING IN THIS CELL THAT IS BELOW THIS LINE\n",
    "\"\"\"\n",
    "tests.test_output(output)"
   ]
  },
  {
   "cell_type": "markdown",
   "metadata": {
    "deletable": true,
    "editable": true
   },
   "source": [
    "### Create Convolutional Model\n",
    "Implement the function `conv_net` to create a convolutional neural network model. The function takes in a batch of images, `x`, and outputs logits.  Use the layers you created above to create this model:\n",
    "\n",
    "* Apply 1, 2, or 3 Convolution and Max Pool layers\n",
    "* Apply a Flatten Layer\n",
    "* Apply 1, 2, or 3 Fully Connected Layers\n",
    "* Apply an Output Layer\n",
    "* Return the output\n",
    "* Apply [TensorFlow's Dropout](https://www.tensorflow.org/api_docs/python/tf/nn/dropout) to one or more layers in the model using `keep_prob`. "
   ]
  },
  {
   "cell_type": "code",
   "execution_count": 37,
   "metadata": {
    "collapsed": false,
    "deletable": true,
    "editable": true
   },
   "outputs": [
    {
     "name": "stdout",
     "output_type": "stream",
     "text": [
      "input shape (?, 32, 32, 3) 3072\n",
      "after 1st conv. shape (?, 16, 16, 18) 4608\n",
      "after 2nd conv. shape (?, 8, 8, 72) 4608\n",
      "after 3rd conv. shape (?, 4, 4, 288) 4608\n",
      "after flattening shape: (?, 4608) 4608\n",
      "after 2nd fully con/dropout shape: (?, 500) 500\n",
      "output shape: (?, 10) 10\n",
      "----- [1] 1\n",
      "input shape (?, 32, 32, 3) 3072\n",
      "after 1st conv. shape (?, 16, 16, 18) 4608\n",
      "after 2nd conv. shape (?, 8, 8, 72) 4608\n",
      "after 3rd conv. shape (?, 4, 4, 288) 4608\n",
      "after flattening shape: (?, 4608) 4608\n",
      "after 2nd fully con/dropout shape: (?, 500) 500\n",
      "output shape: (?, 10) 10\n",
      "----- [1] 1\n",
      "Neural Network Built!\n"
     ]
    }
   ],
   "source": [
    "def conv_net(x, keep_prob):\n",
    "    \"\"\"\n",
    "    Create a convolutional neural network model\n",
    "    : x: Placeholder tensor that holds image data.\n",
    "    : keep_prob: Placeholder tensor that hold dropout keep probability.\n",
    "    : return: Tensor that represents logits\n",
    "    \"\"\"\n",
    "    DEBUG = True\n",
    "    def print_if(a, b):\n",
    "        if DEBUG:\n",
    "            total = 1\n",
    "            for n in b[1:]:\n",
    "                n = int(n)\n",
    "                total = total*n\n",
    "            print(a, b, total)\n",
    "        else:\n",
    "            pass\n",
    "        \n",
    "    input_shape = x.get_shape()\n",
    "    print_if(\"input shape\", input_shape)\n",
    "    image_rectangle_size = input_shape[1:3]\n",
    "    number_color_channels = input_shape[3]\n",
    "    \n",
    "    number_pixels_starting = number_color_channels * image_rectangle_size[0] * image_rectangle_size[1]\n",
    "    #^^~3000\n",
    "    first_filter_size = [4,4]\n",
    "    first_filter_strides = [1,1]\n",
    "    \n",
    "    first_pool_size = [3,3]\n",
    "    first_pool_strides = [2,2]\n",
    "    \n",
    "    final_output_shape = [None, num_labels]\n",
    "    \n",
    "    first_convPool_output_size = 18\n",
    "    \n",
    "    #first conv/pool layer\n",
    "    intermediate_layer = conv2d_maxpool(x_tensor=x, \n",
    "                                   conv_num_outputs = first_convPool_output_size, \n",
    "                                   conv_ksize = first_filter_size, \n",
    "                                   conv_strides = first_filter_strides, \n",
    "                                   pool_ksize = first_pool_size, \n",
    "                                   pool_strides = first_pool_strides)\n",
    "    print_if(\"after 1st conv. shape\", intermediate_layer.get_shape())\n",
    "    #second conv/pool layer?\n",
    "    second_filter_size = [4,4]\n",
    "    second_filter_strides = [1,1]\n",
    "    \n",
    "    second_pool_size = [3,3]\n",
    "    second_pool_strides = [2,2]\n",
    "    \n",
    "    second_convPool_output_size = first_convPool_output_size*4\n",
    "    \n",
    "    intermediate_layer = conv2d_maxpool(x_tensor = intermediate_layer, \n",
    "                                   conv_num_outputs = second_convPool_output_size, \n",
    "                                   conv_ksize = second_filter_size, \n",
    "                                   conv_strides = second_filter_strides, \n",
    "                                   pool_ksize = second_pool_size, \n",
    "                                   pool_strides = second_pool_strides)\n",
    "    print_if(\"after 2nd conv. shape\", intermediate_layer.get_shape())\n",
    "    \n",
    "    #third conv/pool layer?\n",
    "    third_filter_size = [4,4]\n",
    "    third_filter_strides = [1,1]\n",
    "    \n",
    "    third_pool_size = [3,3]\n",
    "    third_pool_strides = [2,2]\n",
    "    \n",
    "    third_convPool_output_size = second_convPool_output_size*4\n",
    "    \n",
    "    intermediate_layer = conv2d_maxpool(x_tensor = intermediate_layer, \n",
    "                                   conv_num_outputs = third_convPool_output_size, \n",
    "                                   conv_ksize = third_filter_size, \n",
    "                                   conv_strides = third_filter_strides, \n",
    "                                   pool_ksize = third_pool_size, \n",
    "                                   pool_strides = third_pool_strides)\n",
    "    print_if(\"after 3rd conv. shape\", intermediate_layer.get_shape())\n",
    "    \n",
    "    \n",
    "    # Function Definition from Above:\n",
    "    intermediate_layer = flatten(intermediate_layer)\n",
    "    print_if(\"after flattening shape:\", intermediate_layer.get_shape())\n",
    "\n",
    "    #    Play around with different number of outputs\n",
    "    # Function Definition from Above:\n",
    "#     intermediate_layer = fully_conn(intermediate_layer, 1000)\n",
    "#     intermediate_layer = tf.nn.dropout(intermediate_layer, keep_prob = keep_prob)\n",
    "#     print_if(\"after 1st fully con/dropout shape:\", intermediate_layer.get_shape())\n",
    "    intermediate_layer = fully_conn(intermediate_layer, 500)\n",
    "    intermediate_layer = tf.nn.dropout(intermediate_layer, keep_prob = keep_prob)\n",
    "    print_if(\"after 2nd fully con/dropout shape:\", intermediate_layer.get_shape())\n",
    "#     intermediate_layer = fully_conn(intermediate_layer, 70)\n",
    "#     intermediate_layer = tf.nn.dropout(intermediate_layer, keep_prob = keep_prob)\n",
    "#     print_if(\"after 3rd fully con/dropout shape:\", intermediate_layer.get_shape())\n",
    "    \n",
    "    \n",
    "    #    Set this to the number of classes\n",
    "    # Function Definition from Above:\n",
    "    intermediate_layer = output(intermediate_layer, num_labels)\n",
    "\n",
    "\n",
    "\n",
    "    \n",
    "    print_if(\"output shape:\", intermediate_layer.get_shape())\n",
    "    print_if(\"-----\", [1])\n",
    "    return intermediate_layer\n",
    "\n",
    "\n",
    "\"\"\"\n",
    "DON'T MODIFY ANYTHING IN THIS CELL THAT IS BELOW THIS LINE\n",
    "\"\"\"\n",
    "\n",
    "##############################\n",
    "## Build the Neural Network ##\n",
    "##############################\n",
    "\n",
    "# Remove previous weights, bias, inputs, etc..\n",
    "tf.reset_default_graph()\n",
    "\n",
    "# Inputs\n",
    "x = neural_net_image_input((32, 32, 3))\n",
    "y = neural_net_label_input(10)\n",
    "keep_prob = neural_net_keep_prob_input()\n",
    "\n",
    "# Model\n",
    "logits = conv_net(x, keep_prob)\n",
    "\n",
    "# Name logits Tensor, so that is can be loaded from disk after training\n",
    "logits = tf.identity(logits, name='logits')\n",
    "\n",
    "# Loss and Optimizer\n",
    "cost = tf.reduce_mean(tf.nn.softmax_cross_entropy_with_logits(logits=logits, labels=y))\n",
    "optimizer = tf.train.AdamOptimizer().minimize(cost)\n",
    "\n",
    "# Accuracy\n",
    "correct_pred = tf.equal(tf.argmax(logits, 1), tf.argmax(y, 1))\n",
    "accuracy = tf.reduce_mean(tf.cast(correct_pred, tf.float32), name='accuracy')\n",
    "\n",
    "tests.test_conv_net(conv_net)"
   ]
  },
  {
   "cell_type": "markdown",
   "metadata": {
    "deletable": true,
    "editable": true
   },
   "source": [
    "## Train the Neural Network\n",
    "### Single Optimization\n",
    "Implement the function `train_neural_network` to do a single optimization.  The optimization should use `optimizer` to optimize in `session` with a `feed_dict` of the following:\n",
    "* `x` for image input\n",
    "* `y` for labels\n",
    "* `keep_prob` for keep probability for dropout\n",
    "\n",
    "This function will be called for each batch, so `tf.global_variables_initializer()` has already been called.\n",
    "\n",
    "Note: Nothing needs to be returned. This function is only optimizing the neural network."
   ]
  },
  {
   "cell_type": "code",
   "execution_count": 38,
   "metadata": {
    "collapsed": false,
    "deletable": true,
    "editable": true
   },
   "outputs": [
    {
     "name": "stdout",
     "output_type": "stream",
     "text": [
      "Tests Passed\n"
     ]
    }
   ],
   "source": [
    "def train_neural_network(session, optimizer, keep_probability, feature_batch, label_batch):\n",
    "    \"\"\"\n",
    "    Optimize the session on a batch of images and labels\n",
    "    : session: Current TensorFlow session\n",
    "    : optimizer: TensorFlow optimizer function\n",
    "    : keep_probability: keep probability\n",
    "    : feature_batch: Batch of Numpy image data\n",
    "    : label_batch: Batch of Numpy label data\n",
    "    \"\"\"\n",
    "    session.run(optimizer, feed_dict = {'x:0': feature_batch, \n",
    "                                        'y:0': label_batch, \n",
    "                                        'keep_prob:0' : keep_probability})\n",
    "    \n",
    "\n",
    "\n",
    "\"\"\"\n",
    "DON'T MODIFY ANYTHING IN THIS CELL THAT IS BELOW THIS LINE\n",
    "\"\"\"\n",
    "tests.test_train_nn(train_neural_network)"
   ]
  },
  {
   "cell_type": "markdown",
   "metadata": {
    "deletable": true,
    "editable": true
   },
   "source": [
    "### Show Stats\n",
    "Implement the function `print_stats` to print loss and validation accuracy.  Use the global variables `valid_features` and `valid_labels` to calculate validation accuracy.  Use a keep probability of `1.0` to calculate the loss and validation accuracy."
   ]
  },
  {
   "cell_type": "code",
   "execution_count": 39,
   "metadata": {
    "collapsed": false,
    "deletable": true,
    "editable": true
   },
   "outputs": [],
   "source": [
    "def print_stats(session, feature_batch, label_batch, cost, accuracy):\n",
    "    \"\"\"\n",
    "    Print information about loss and validation accuracy\n",
    "    : session: Current TensorFlow session\n",
    "    : feature_batch: Batch of Numpy image data\n",
    "    : label_batch: Batch of Numpy label data\n",
    "    : cost: TensorFlow cost function\n",
    "    : accuracy: TensorFlow accuracy function\n",
    "    \"\"\"\n",
    "    accuracy_amount = session.run(accuracy, feed_dict = {'x:0': feature_batch, \n",
    "                                        'y:0': label_batch, \n",
    "                                        'keep_prob:0' : 1.0})\n",
    "    \n",
    "    cost_amount = session.run(cost, feed_dict = {'x:0': feature_batch, \n",
    "                                        'y:0': label_batch, \n",
    "                                        'keep_prob:0' : 1.0})\n",
    "    print(\"Cost Function: %f | Accuracy: %f\"%( cost_amount, accuracy_amount))"
   ]
  },
  {
   "cell_type": "markdown",
   "metadata": {
    "deletable": true,
    "editable": true
   },
   "source": [
    "### Hyperparameters\n",
    "Tune the following parameters:\n",
    "* Set `epochs` to the number of iterations until the network stops learning or start overfitting\n",
    "* Set `batch_size` to the highest number that your machine has memory for.  Most people set them to common sizes of memory:\n",
    " * 64\n",
    " * 128\n",
    " * 256\n",
    " * ...\n",
    "* Set `keep_probability` to the probability of keeping a node using dropout"
   ]
  },
  {
   "cell_type": "code",
   "execution_count": 50,
   "metadata": {
    "collapsed": true,
    "deletable": true,
    "editable": true
   },
   "outputs": [],
   "source": [
    "# TODO: Tune Parameters\n",
    "epochs = 15\n",
    "batch_size = 512\n",
    "keep_probability = .6"
   ]
  },
  {
   "cell_type": "markdown",
   "metadata": {
    "deletable": true,
    "editable": true
   },
   "source": [
    "### Train on a Single CIFAR-10 Batch\n",
    "Instead of training the neural network on all the CIFAR-10 batches of data, let's use a single batch. This should save time while you iterate on the model to get a better accuracy.  Once the final validation accuracy is 50% or greater, run the model on all the data in the next section."
   ]
  },
  {
   "cell_type": "code",
   "execution_count": 51,
   "metadata": {
    "collapsed": false,
    "deletable": true,
    "editable": true
   },
   "outputs": [
    {
     "name": "stdout",
     "output_type": "stream",
     "text": [
      "Checking the Training on a Single Batch...\n",
      "Epoch  1, CIFAR-10 Batch 1:  Cost Function: 267085.250000 | Accuracy: 0.125000\n",
      "Epoch  2, CIFAR-10 Batch 1:  Cost Function: 157597.281250 | Accuracy: 0.192568\n",
      "Epoch  3, CIFAR-10 Batch 1:  Cost Function: 134366.125000 | Accuracy: 0.246622\n",
      "Epoch  4, CIFAR-10 Batch 1:  Cost Function: 104676.617188 | Accuracy: 0.320946\n",
      "Epoch  5, CIFAR-10 Batch 1:  Cost Function: 91501.054688 | Accuracy: 0.358108\n",
      "Epoch  6, CIFAR-10 Batch 1:  Cost Function: 86988.593750 | Accuracy: 0.347973\n",
      "Epoch  7, CIFAR-10 Batch 1:  Cost Function: 81711.859375 | Accuracy: 0.347973\n",
      "Epoch  8, CIFAR-10 Batch 1:  Cost Function: 73524.218750 | Accuracy: 0.378378\n",
      "Epoch  9, CIFAR-10 Batch 1:  Cost Function: 68700.960938 | Accuracy: 0.381757\n",
      "Epoch 10, CIFAR-10 Batch 1:  Cost Function: 64968.875000 | Accuracy: 0.395270\n",
      "Epoch 11, CIFAR-10 Batch 1:  Cost Function: 61023.546875 | Accuracy: 0.425676\n",
      "Epoch 12, CIFAR-10 Batch 1:  Cost Function: 55447.062500 | Accuracy: 0.435811\n",
      "Epoch 13, CIFAR-10 Batch 1:  Cost Function: 52576.535156 | Accuracy: 0.456081\n",
      "Epoch 14, CIFAR-10 Batch 1:  Cost Function: 52343.125000 | Accuracy: 0.432432\n",
      "Epoch 15, CIFAR-10 Batch 1:  Cost Function: 48960.878906 | Accuracy: 0.449324\n"
     ]
    }
   ],
   "source": [
    "\"\"\"\n",
    "DON'T MODIFY ANYTHING IN THIS CELL\n",
    "\"\"\"\n",
    "print('Checking the Training on a Single Batch...')\n",
    "with tf.Session() as sess:\n",
    "    # Initializing the variables\n",
    "    sess.run(tf.global_variables_initializer())\n",
    "    \n",
    "    # Training cycle\n",
    "    for epoch in range(epochs):\n",
    "        batch_i = 1\n",
    "        for batch_features, batch_labels in helper.load_preprocess_training_batch(batch_i, batch_size):\n",
    "            train_neural_network(sess, optimizer, keep_probability, batch_features, batch_labels)\n",
    "        print('Epoch {:>2}, CIFAR-10 Batch {}:  '.format(epoch + 1, batch_i), end='')\n",
    "        print_stats(sess, batch_features, batch_labels, cost, accuracy)"
   ]
  },
  {
   "cell_type": "markdown",
   "metadata": {
    "deletable": true,
    "editable": true
   },
   "source": [
    "### Fully Train the Model\n",
    "Now that you got a good accuracy with a single CIFAR-10 batch, try it with all five batches."
   ]
  },
  {
   "cell_type": "code",
   "execution_count": 52,
   "metadata": {
    "collapsed": false,
    "deletable": true,
    "editable": true
   },
   "outputs": [
    {
     "name": "stdout",
     "output_type": "stream",
     "text": [
      "Training...\n",
      "Epoch  1, CIFAR-10 Batch 1:  Cost Function: 502989.437500 | Accuracy: 0.121622\n",
      "Epoch  1, CIFAR-10 Batch 2:  Cost Function: 208300.593750 | Accuracy: 0.250000\n",
      "Epoch  1, CIFAR-10 Batch 3:  Cost Function: 165233.625000 | Accuracy: 0.266892\n",
      "Epoch  1, CIFAR-10 Batch 4:  Cost Function: 122280.031250 | Accuracy: 0.317568\n",
      "Epoch  1, CIFAR-10 Batch 5:  Cost Function: 105933.070312 | Accuracy: 0.324324\n",
      "Epoch  2, CIFAR-10 Batch 1:  Cost Function: 100205.867188 | Accuracy: 0.304054\n",
      "Epoch  2, CIFAR-10 Batch 2:  Cost Function: 88854.484375 | Accuracy: 0.381757\n",
      "Epoch  2, CIFAR-10 Batch 3:  Cost Function: 85330.343750 | Accuracy: 0.334459\n",
      "Epoch  2, CIFAR-10 Batch 4:  Cost Function: 68872.226562 | Accuracy: 0.408784\n",
      "Epoch  2, CIFAR-10 Batch 5:  Cost Function: 73068.789062 | Accuracy: 0.402027\n",
      "Epoch  3, CIFAR-10 Batch 1:  Cost Function: 70217.960938 | Accuracy: 0.351351\n",
      "Epoch  3, CIFAR-10 Batch 2:  Cost Function: 62221.914062 | Accuracy: 0.442568\n",
      "Epoch  3, CIFAR-10 Batch 3:  Cost Function: 60754.328125 | Accuracy: 0.395270\n",
      "Epoch  3, CIFAR-10 Batch 4:  Cost Function: 52655.628906 | Accuracy: 0.449324\n",
      "Epoch  3, CIFAR-10 Batch 5:  Cost Function: 56437.171875 | Accuracy: 0.435811\n",
      "Epoch  4, CIFAR-10 Batch 1:  Cost Function: 55681.164062 | Accuracy: 0.429054\n",
      "Epoch  4, CIFAR-10 Batch 2:  Cost Function: 48461.679688 | Accuracy: 0.476351\n",
      "Epoch  4, CIFAR-10 Batch 3:  Cost Function: 46758.679688 | Accuracy: 0.452703\n",
      "Epoch  4, CIFAR-10 Batch 4:  Cost Function: 41948.312500 | Accuracy: 0.462838\n",
      "Epoch  4, CIFAR-10 Batch 5:  Cost Function: 45107.679688 | Accuracy: 0.445946\n",
      "Epoch  5, CIFAR-10 Batch 1:  Cost Function: 48169.945312 | Accuracy: 0.412162\n",
      "Epoch  5, CIFAR-10 Batch 2:  Cost Function: 40518.710938 | Accuracy: 0.479730\n",
      "Epoch  5, CIFAR-10 Batch 3:  Cost Function: 37868.328125 | Accuracy: 0.445946\n",
      "Epoch  5, CIFAR-10 Batch 4:  Cost Function: 35671.984375 | Accuracy: 0.466216\n",
      "Epoch  5, CIFAR-10 Batch 5:  Cost Function: 36315.718750 | Accuracy: 0.486487\n",
      "Epoch  6, CIFAR-10 Batch 1:  Cost Function: 41909.496094 | Accuracy: 0.415541\n",
      "Epoch  6, CIFAR-10 Batch 2:  Cost Function: 34378.367188 | Accuracy: 0.506757\n",
      "Epoch  6, CIFAR-10 Batch 3:  Cost Function: 30641.347656 | Accuracy: 0.462838\n",
      "Epoch  6, CIFAR-10 Batch 4:  Cost Function: 30031.968750 | Accuracy: 0.489865\n",
      "Epoch  6, CIFAR-10 Batch 5:  Cost Function: 31482.707031 | Accuracy: 0.476351\n",
      "Epoch  7, CIFAR-10 Batch 1:  Cost Function: 35855.023438 | Accuracy: 0.442568\n",
      "Epoch  7, CIFAR-10 Batch 2:  Cost Function: 29597.960938 | Accuracy: 0.513514\n",
      "Epoch  7, CIFAR-10 Batch 3:  Cost Function: 27151.072266 | Accuracy: 0.456081\n",
      "Epoch  7, CIFAR-10 Batch 4:  Cost Function: 26313.605469 | Accuracy: 0.483108\n",
      "Epoch  7, CIFAR-10 Batch 5:  Cost Function: 28904.937500 | Accuracy: 0.520270\n",
      "Epoch  8, CIFAR-10 Batch 1:  Cost Function: 31820.345703 | Accuracy: 0.442568\n",
      "Epoch  8, CIFAR-10 Batch 2:  Cost Function: 26050.822266 | Accuracy: 0.506757\n",
      "Epoch  8, CIFAR-10 Batch 3:  Cost Function: 24808.267578 | Accuracy: 0.459459\n",
      "Epoch  8, CIFAR-10 Batch 4:  Cost Function: 23220.154297 | Accuracy: 0.500000\n",
      "Epoch  8, CIFAR-10 Batch 5:  Cost Function: 24869.148438 | Accuracy: 0.537162\n",
      "Epoch  9, CIFAR-10 Batch 1:  Cost Function: 28710.781250 | Accuracy: 0.462838\n",
      "Epoch  9, CIFAR-10 Batch 2:  Cost Function: 23665.957031 | Accuracy: 0.516892\n",
      "Epoch  9, CIFAR-10 Batch 3:  Cost Function: 21108.580078 | Accuracy: 0.479730\n",
      "Epoch  9, CIFAR-10 Batch 4:  Cost Function: 20909.113281 | Accuracy: 0.520270\n",
      "Epoch  9, CIFAR-10 Batch 5:  Cost Function: 22333.302734 | Accuracy: 0.530405\n",
      "Epoch 10, CIFAR-10 Batch 1:  Cost Function: 26595.117188 | Accuracy: 0.479730\n",
      "Epoch 10, CIFAR-10 Batch 2:  Cost Function: 21443.994141 | Accuracy: 0.489865\n",
      "Epoch 10, CIFAR-10 Batch 3:  Cost Function: 19221.703125 | Accuracy: 0.462838\n",
      "Epoch 10, CIFAR-10 Batch 4:  Cost Function: 19236.681641 | Accuracy: 0.527027\n",
      "Epoch 10, CIFAR-10 Batch 5:  Cost Function: 20822.753906 | Accuracy: 0.513514\n",
      "Epoch 11, CIFAR-10 Batch 1:  Cost Function: 23714.726562 | Accuracy: 0.476351\n",
      "Epoch 11, CIFAR-10 Batch 2:  Cost Function: 19369.566406 | Accuracy: 0.506757\n",
      "Epoch 11, CIFAR-10 Batch 3:  Cost Function: 17251.648438 | Accuracy: 0.483108\n",
      "Epoch 11, CIFAR-10 Batch 4:  Cost Function: 16589.222656 | Accuracy: 0.533784\n",
      "Epoch 11, CIFAR-10 Batch 5:  Cost Function: 18633.816406 | Accuracy: 0.523649\n",
      "Epoch 12, CIFAR-10 Batch 1:  Cost Function: 22377.224609 | Accuracy: 0.469595\n",
      "Epoch 12, CIFAR-10 Batch 2:  Cost Function: 17828.509766 | Accuracy: 0.506757\n",
      "Epoch 12, CIFAR-10 Batch 3:  Cost Function: 16863.541016 | Accuracy: 0.496622\n",
      "Epoch 12, CIFAR-10 Batch 4:  Cost Function: 15330.173828 | Accuracy: 0.527027\n",
      "Epoch 12, CIFAR-10 Batch 5:  Cost Function: 17761.548828 | Accuracy: 0.500000\n",
      "Epoch 13, CIFAR-10 Batch 1:  Cost Function: 19933.091797 | Accuracy: 0.476351\n",
      "Epoch 13, CIFAR-10 Batch 2:  Cost Function: 16221.255859 | Accuracy: 0.510135\n",
      "Epoch 13, CIFAR-10 Batch 3:  Cost Function: 14534.390625 | Accuracy: 0.523649\n",
      "Epoch 13, CIFAR-10 Batch 4:  Cost Function: 13723.375000 | Accuracy: 0.557432\n",
      "Epoch 13, CIFAR-10 Batch 5:  Cost Function: 15558.170898 | Accuracy: 0.496622\n",
      "Epoch 14, CIFAR-10 Batch 1:  Cost Function: 18041.429688 | Accuracy: 0.462838\n",
      "Epoch 14, CIFAR-10 Batch 2:  Cost Function: 14786.098633 | Accuracy: 0.530405\n",
      "Epoch 14, CIFAR-10 Batch 3:  Cost Function: 13008.908203 | Accuracy: 0.493243\n",
      "Epoch 14, CIFAR-10 Batch 4:  Cost Function: 12690.149414 | Accuracy: 0.537162\n",
      "Epoch 14, CIFAR-10 Batch 5:  Cost Function: 14705.718750 | Accuracy: 0.496622\n",
      "Epoch 15, CIFAR-10 Batch 1:  Cost Function: 16715.398438 | Accuracy: 0.456081\n",
      "Epoch 15, CIFAR-10 Batch 2:  Cost Function: 13447.256836 | Accuracy: 0.540541\n",
      "Epoch 15, CIFAR-10 Batch 3:  Cost Function: 12064.128906 | Accuracy: 0.527027\n",
      "Epoch 15, CIFAR-10 Batch 4:  Cost Function: 11503.225586 | Accuracy: 0.543919\n",
      "Epoch 15, CIFAR-10 Batch 5:  Cost Function: 13420.076172 | Accuracy: 0.483108\n"
     ]
    }
   ],
   "source": [
    "\"\"\"\n",
    "DON'T MODIFY ANYTHING IN THIS CELL\n",
    "\"\"\"\n",
    "save_model_path = './image_classification'\n",
    "\n",
    "print('Training...')\n",
    "with tf.Session() as sess:\n",
    "    # Initializing the variables\n",
    "    sess.run(tf.global_variables_initializer())\n",
    "    \n",
    "    # Training cycle\n",
    "    for epoch in range(epochs):\n",
    "        # Loop over all batches\n",
    "        n_batches = 5\n",
    "        for batch_i in range(1, n_batches + 1):\n",
    "            for batch_features, batch_labels in helper.load_preprocess_training_batch(batch_i, batch_size):\n",
    "                train_neural_network(sess, optimizer, keep_probability, batch_features, batch_labels)\n",
    "            print('Epoch {:>2}, CIFAR-10 Batch {}:  '.format(epoch + 1, batch_i), end='')\n",
    "            print_stats(sess, batch_features, batch_labels, cost, accuracy)\n",
    "            \n",
    "    # Save Model\n",
    "    saver = tf.train.Saver()\n",
    "    save_path = saver.save(sess, save_model_path)"
   ]
  },
  {
   "cell_type": "markdown",
   "metadata": {
    "deletable": true,
    "editable": true
   },
   "source": [
    "# Checkpoint\n",
    "The model has been saved to disk.\n",
    "## Test Model\n",
    "Test your model against the test dataset.  This will be your final accuracy. You should have an accuracy greater than 50%. If you don't, keep tweaking the model architecture and parameters."
   ]
  },
  {
   "cell_type": "code",
   "execution_count": 53,
   "metadata": {
    "collapsed": false,
    "deletable": true,
    "editable": true
   },
   "outputs": [
    {
     "name": "stdout",
     "output_type": "stream",
     "text": [
      "Testing Accuracy: 0.4929744958877563\n",
      "\n"
     ]
    },
    {
     "data": {
      "image/png": "[encoded data removed]",
      "text/plain": [
       "<matplotlib.figure.Figure at 0x7f2fe794eac8>"
      ]
     },
     "metadata": {
      "image/png": {
       "height": 319,
       "width": 349
      }
     },
     "output_type": "display_data"
    }
   ],
   "source": [
    "\"\"\"\n",
    "DON'T MODIFY ANYTHING IN THIS CELL\n",
    "\"\"\"\n",
    "%matplotlib inline\n",
    "%config InlineBackend.figure_format = 'retina'\n",
    "\n",
    "import tensorflow as tf\n",
    "import pickle\n",
    "import helper\n",
    "import random\n",
    "\n",
    "# Set batch size if not already set\n",
    "try:\n",
    "    if batch_size:\n",
    "        pass\n",
    "except NameError:\n",
    "    batch_size = 64\n",
    "\n",
    "save_model_path = './image_classification'\n",
    "n_samples = 4\n",
    "top_n_predictions = 3\n",
    "\n",
    "def test_model():\n",
    "    \"\"\"\n",
    "    Test the saved model against the test dataset\n",
    "    \"\"\"\n",
    "\n",
    "    test_features, test_labels = pickle.load(open('preprocess_training.p', mode='rb'))\n",
    "    loaded_graph = tf.Graph()\n",
    "\n",
    "    with tf.Session(graph=loaded_graph) as sess:\n",
    "        # Load model\n",
    "        loader = tf.train.import_meta_graph(save_model_path + '.meta')\n",
    "        loader.restore(sess, save_model_path)\n",
    "\n",
    "        # Get Tensors from loaded model\n",
    "        loaded_x = loaded_graph.get_tensor_by_name('x:0')\n",
    "        loaded_y = loaded_graph.get_tensor_by_name('y:0')\n",
    "        loaded_keep_prob = loaded_graph.get_tensor_by_name('keep_prob:0')\n",
    "        loaded_logits = loaded_graph.get_tensor_by_name('logits:0')\n",
    "        loaded_acc = loaded_graph.get_tensor_by_name('accuracy:0')\n",
    "        \n",
    "        # Get accuracy in batches for memory limitations\n",
    "        test_batch_acc_total = 0\n",
    "        test_batch_count = 0\n",
    "        \n",
    "        for train_feature_batch, train_label_batch in helper.batch_features_labels(test_features, test_labels, batch_size):\n",
    "            test_batch_acc_total += sess.run(\n",
    "                loaded_acc,\n",
    "                feed_dict={loaded_x: train_feature_batch, loaded_y: train_label_batch, loaded_keep_prob: 1.0})\n",
    "            test_batch_count += 1\n",
    "\n",
    "        print('Testing Accuracy: {}\\n'.format(test_batch_acc_total/test_batch_count))\n",
    "\n",
    "        # Print Random Samples\n",
    "        random_test_features, random_test_labels = tuple(zip(*random.sample(list(zip(test_features, test_labels)), n_samples)))\n",
    "        random_test_predictions = sess.run(\n",
    "            tf.nn.top_k(tf.nn.softmax(loaded_logits), top_n_predictions),\n",
    "            feed_dict={loaded_x: random_test_features, loaded_y: random_test_labels, loaded_keep_prob: 1.0})\n",
    "        helper.display_image_predictions(random_test_features, random_test_labels, random_test_predictions)\n",
    "\n",
    "\n",
    "test_model()"
   ]
  },
  {
   "cell_type": "markdown",
   "metadata": {
    "deletable": true,
    "editable": true
   },
   "source": [
    "## Why 50-80% Accuracy?\n",
    "You might be wondering why you can't get an accuracy any higher. First things first, 50% isn't bad for a simple CNN.  Pure guessing would get you 10% accuracy. However, you might notice people are getting scores [well above 80%](http://rodrigob.github.io/are_we_there_yet/build/classification_datasets_results.html#43494641522d3130).  That's because we haven't taught you all there is to know about neural networks. We still need to cover a few more techniques.\n",
    "## Submitting This Project\n",
    "When submitting this project, make sure to run all the cells before saving the notebook.  Save the notebook file as \"dlnd_image_classification.ipynb\" and save it as a HTML file under \"File\" -> \"Download as\".  Include the \"helper.py\" and \"problem_unittests.py\" files in your submission."
   ]
  },
  {
   "cell_type": "markdown",
   "metadata": {},
   "source": [
    "# A Note to the Reviewer:"
   ]
  },
  {
   "cell_type": "markdown",
   "metadata": {},
   "source": [
    "I have been playing with hyperparameters for what seems like hours and I can't for the life of me get a good accuracy.  I'm submitting for review to see what I'm doing wrong and make sure I don't have any bugs in the first part of the project..."
   ]
  },
  {
   "cell_type": "code",
   "execution_count": null,
   "metadata": {
    "collapsed": true
   },
   "outputs": [],
   "source": []
  }
 ],
 "metadata": {
  "kernelspec": {
   "display_name": "Python 3",
   "language": "python",
   "name": "python3"
  },
  "language_info": {
   "codemirror_mode": {
    "name": "ipython",
    "version": 3
   },
   "file_extension": ".py",
   "mimetype": "text/x-python",
   "name": "python",
   "nbconvert_exporter": "python",
   "pygments_lexer": "ipython3",
   "version": "3.5.2"
  },
  "widgets": {
   "state": {},
   "version": "1.1.2"
  }
 },
 "nbformat": 4,
 "nbformat_minor": 0
}
