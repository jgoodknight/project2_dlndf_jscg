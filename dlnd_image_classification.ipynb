{
 "cells": [
  {
   "cell_type": "markdown",
   "metadata": {
    "collapsed": true,
    "deletable": true,
    "editable": true
   },
   "source": [
    "# Image Classification\n",
    "In this project, you'll classify images from the [CIFAR-10 dataset](https://www.cs.toronto.edu/~kriz/cifar.html).  The dataset consists of airplanes, dogs, cats, and other objects. You'll preprocess the images, then train a convolutional neural network on all the samples. The images need to be normalized and the labels need to be one-hot encoded.  You'll get to apply what you learned and build a convolutional, max pooling, dropout, and fully connected layers.  At the end, you'll get to see your neural network's predictions on the sample images.\n",
    "## Get the Data\n",
    "Run the following cell to download the [CIFAR-10 dataset for python](https://www.cs.toronto.edu/~kriz/cifar-10-python.tar.gz)."
   ]
  },
  {
   "cell_type": "code",
   "execution_count": 1,
   "metadata": {
    "collapsed": false,
    "deletable": true,
    "editable": true
   },
   "outputs": [
    {
     "name": "stderr",
     "output_type": "stream",
     "text": [
      "CIFAR-10 Dataset: 171MB [00:13, 12.3MB/s]                              \n"
     ]
    },
    {
     "name": "stdout",
     "output_type": "stream",
     "text": [
      "All files found!\n"
     ]
    }
   ],
   "source": [
    "\"\"\"\n",
    "DON'T MODIFY ANYTHING IN THIS CELL THAT IS BELOW THIS LINE\n",
    "\"\"\"\n",
    "from urllib.request import urlretrieve\n",
    "from os.path import isfile, isdir\n",
    "from tqdm import tqdm\n",
    "import problem_unittests as tests\n",
    "import tarfile\n",
    "\n",
    "cifar10_dataset_folder_path = 'cifar-10-batches-py'\n",
    "\n",
    "class DLProgress(tqdm):\n",
    "    last_block = 0\n",
    "\n",
    "    def hook(self, block_num=1, block_size=1, total_size=None):\n",
    "        self.total = total_size\n",
    "        self.update((block_num - self.last_block) * block_size)\n",
    "        self.last_block = block_num\n",
    "\n",
    "if not isfile('cifar-10-python.tar.gz'):\n",
    "    with DLProgress(unit='B', unit_scale=True, miniters=1, desc='CIFAR-10 Dataset') as pbar:\n",
    "        urlretrieve(\n",
    "            'https://www.cs.toronto.edu/~kriz/cifar-10-python.tar.gz',\n",
    "            'cifar-10-python.tar.gz',\n",
    "            pbar.hook)\n",
    "\n",
    "if not isdir(cifar10_dataset_folder_path):\n",
    "    with tarfile.open('cifar-10-python.tar.gz') as tar:\n",
    "        tar.extractall()\n",
    "        tar.close()\n",
    "\n",
    "\n",
    "tests.test_folder_path(cifar10_dataset_folder_path)"
   ]
  },
  {
   "cell_type": "markdown",
   "metadata": {
    "deletable": true,
    "editable": true
   },
   "source": [
    "## Explore the Data\n",
    "The dataset is broken into batches to prevent your machine from running out of memory.  The CIFAR-10 dataset consists of 5 batches, named `data_batch_1`, `data_batch_2`, etc.. Each batch contains the labels and images that are one of the following:\n",
    "* airplane\n",
    "* automobile\n",
    "* bird\n",
    "* cat\n",
    "* deer\n",
    "* dog\n",
    "* frog\n",
    "* horse\n",
    "* ship\n",
    "* truck\n",
    "\n",
    "Understanding a dataset is part of making predictions on the data.  Play around with the code cell below by changing the `batch_id` and `sample_id`. The `batch_id` is the id for a batch (1-5). The `sample_id` is the id for a image and label pair in the batch.\n",
    "\n",
    "Ask yourself \"What are all possible labels?\", \"What is the range of values for the image data?\", \"Are the labels in order or random?\".  Answers to questions like these will help you preprocess the data and end up with better predictions."
   ]
  },
  {
   "cell_type": "code",
   "execution_count": 2,
   "metadata": {
    "collapsed": false,
    "deletable": true,
    "editable": true
   },
   "outputs": [
    {
     "name": "stdout",
     "output_type": "stream",
     "text": [
      "\n",
      "Stats of batch 1:\n",
      "Samples: 10000\n",
      "Label Counts: {0: 1005, 1: 974, 2: 1032, 3: 1016, 4: 999, 5: 937, 6: 1030, 7: 1001, 8: 1025, 9: 981}\n",
      "First 20 Labels: [6, 9, 9, 4, 1, 1, 2, 7, 8, 3, 4, 7, 7, 2, 9, 9, 9, 3, 2, 6]\n",
      "\n",
      "Example of Image 80:\n",
      "Image - Min Value: 34 Max Value: 219\n",
      "Image - Shape: (32, 32, 3)\n",
      "Label - Label Id: 3 Name: cat\n"
     ]
    },
    {
     "data": {
      "image/png": "[encoded data removed]",
      "text/plain": [
       "<matplotlib.figure.Figure at 0x7fdaa9e754a8>"
      ]
     },
     "metadata": {
      "image/png": {
       "height": 250,
       "width": 253
      }
     },
     "output_type": "display_data"
    }
   ],
   "source": [
    "%matplotlib inline\n",
    "%config InlineBackend.figure_format = 'retina'\n",
    "\n",
    "import helper\n",
    "import numpy as np\n",
    "\n",
    "# Explore the dataset\n",
    "batch_id = 1\n",
    "sample_id = np.random.randint(100)\n",
    "helper.display_stats(cifar10_dataset_folder_path, batch_id, sample_id)"
   ]
  },
  {
   "cell_type": "markdown",
   "metadata": {
    "deletable": true,
    "editable": true
   },
   "source": [
    "## Implement Preprocess Functions\n",
    "### Normalize\n",
    "In the cell below, implement the `normalize` function to take in image data, `x`, and return it as a normalized Numpy array. The values should be in the range of 0 to 1, inclusive.  The return object should be the same shape as `x`."
   ]
  },
  {
   "cell_type": "code",
   "execution_count": 3,
   "metadata": {
    "collapsed": false,
    "deletable": true,
    "editable": true
   },
   "outputs": [
    {
     "name": "stdout",
     "output_type": "stream",
     "text": [
      "Tests Passed\n"
     ]
    }
   ],
   "source": [
    "def normalize(x):\n",
    "    \"\"\"\n",
    "    Normalize a list of sample image data in the range of 0 to 1\n",
    "    : x: List of image data.  The image shape is (32, 32, 3)\n",
    "    : return: Numpy array of normalize data\n",
    "    \"\"\"\n",
    "    min_val = np.min(x)\n",
    "    max_val = np.max(x)\n",
    "    return x/max_val\n",
    "\n",
    "\n",
    "\"\"\"\n",
    "DON'T MODIFY ANYTHING IN THIS CELL THAT IS BELOW THIS LINE\n",
    "\"\"\"\n",
    "tests.test_normalize(normalize)"
   ]
  },
  {
   "cell_type": "markdown",
   "metadata": {
    "deletable": true,
    "editable": true
   },
   "source": [
    "### One-hot encode\n",
    "Just like the previous code cell, you'll be implementing a function for preprocessing.  This time, you'll implement the `one_hot_encode` function. The input, `x`, are a list of labels.  Implement the function to return the list of labels as One-Hot encoded Numpy array.  The possible values for labels are 0 to 9. The one-hot encoding function should return the same encoding for each value between each call to `one_hot_encode`.  Make sure to save the map of encodings outside the function.\n",
    "\n",
    "Hint: Don't reinvent the wheel."
   ]
  },
  {
   "cell_type": "code",
   "execution_count": 4,
   "metadata": {
    "collapsed": false,
    "deletable": true,
    "editable": true
   },
   "outputs": [
    {
     "name": "stdout",
     "output_type": "stream",
     "text": [
      "Tests Passed\n"
     ]
    }
   ],
   "source": [
    "hot_encoding_dictionary = {}\n",
    "num_labels = 10\n",
    "\n",
    "def one_hot_encode(x):\n",
    "    \"\"\"\n",
    "    One hot encode a list of sample labels. Return a one-hot encoded vector for each label.\n",
    "    : x: List of sample Labels\n",
    "    : return: Numpy array of one-hot encoded labels\n",
    "    \"\"\"\n",
    "    output = np.zeros((len(x), num_labels))\n",
    "    for data_index, label_value in enumerate(x):\n",
    "        output[data_index, label_value] = 1\n",
    "    return output\n",
    "\n",
    "\n",
    "\"\"\"\n",
    "DON'T MODIFY ANYTHING IN THIS CELL THAT IS BELOW THIS LINE\n",
    "\"\"\"\n",
    "tests.test_one_hot_encode(one_hot_encode)"
   ]
  },
  {
   "cell_type": "markdown",
   "metadata": {
    "deletable": true,
    "editable": true
   },
   "source": [
    "### Randomize Data\n",
    "As you saw from exploring the data above, the order of the samples are randomized.  It doesn't hurt to randomize it again, but you don't need to for this dataset."
   ]
  },
  {
   "cell_type": "markdown",
   "metadata": {
    "deletable": true,
    "editable": true
   },
   "source": [
    "## Preprocess all the data and save it\n",
    "Running the code cell below will preprocess all the CIFAR-10 data and save it to file. The code below also uses 10% of the training data for validation."
   ]
  },
  {
   "cell_type": "code",
   "execution_count": 5,
   "metadata": {
    "collapsed": false,
    "deletable": true,
    "editable": true
   },
   "outputs": [],
   "source": [
    "\"\"\"\n",
    "DON'T MODIFY ANYTHING IN THIS CELL\n",
    "\"\"\"\n",
    "# Preprocess Training, Validation, and Testing Data\n",
    "helper.preprocess_and_save_data(cifar10_dataset_folder_path, normalize, one_hot_encode)"
   ]
  },
  {
   "cell_type": "markdown",
   "metadata": {
    "deletable": true,
    "editable": true
   },
   "source": [
    "# Check Point\n",
    "This is your first checkpoint.  If you ever decide to come back to this notebook or have to restart the notebook, you can start from here.  The preprocessed data has been saved to disk."
   ]
  },
  {
   "cell_type": "code",
   "execution_count": 1,
   "metadata": {
    "collapsed": true,
    "deletable": true,
    "editable": true
   },
   "outputs": [],
   "source": [
    "num_labels = 10\n",
    "\"\"\"\n",
    "DON'T MODIFY ANYTHING IN THIS CELL (I'm a rebel!)\n",
    "\"\"\"\n",
    "import pickle\n",
    "import math\n",
    "\n",
    "import problem_unittests as tests\n",
    "import helper\n",
    "\n",
    "import tqdm\n",
    "\n",
    "import numpy as np\n",
    "import matplotlib.pyplot as plt\n",
    "%matplotlib inline\n",
    "\n",
    "# Load the Preprocessed Validation data\n",
    "valid_features, valid_labels = pickle.load(open('preprocess_validation.p', mode='rb'))"
   ]
  },
  {
   "cell_type": "markdown",
   "metadata": {
    "deletable": true,
    "editable": true
   },
   "source": [
    "## Build the network\n",
    "For the neural network, you'll build each layer into a function.  Most of the code you've seen has been outside of functions. To test your code more thoroughly, we require that you put each layer in a function.  This allows us to give you better feedback and test for simple mistakes using our unittests before you submit your project.\n",
    "\n",
    ">**Note:** If you're finding it hard to dedicate enough time for this course each week, we've provided a small shortcut to this part of the project. In the next couple of problems, you'll have the option to use classes from the [TensorFlow Layers](https://www.tensorflow.org/api_docs/python/tf/layers) or [TensorFlow Layers (contrib)](https://www.tensorflow.org/api_guides/python/contrib.layers) packages to build each layer, except the layers you build in the \"Convolutional and Max Pooling Layer\" section.  TF Layers is similar to Keras's and TFLearn's abstraction to layers, so it's easy to pickup.\n",
    "\n",
    ">However, if you would like to get the most out of this course, try to solve all the problems _without_ using anything from the TF Layers packages. You **can** still use classes from other packages that happen to have the same name as ones you find in TF Layers! For example, instead of using the TF Layers version of the `conv2d` class, [tf.layers.conv2d](https://www.tensorflow.org/api_docs/python/tf/layers/conv2d), you would want to use the TF Neural Network version of `conv2d`, [tf.nn.conv2d](https://www.tensorflow.org/api_docs/python/tf/nn/conv2d). \n",
    "\n",
    "Let's begin!\n",
    "\n",
    "### Input\n",
    "The neural network needs to read the image data, one-hot encoded labels, and dropout keep probability. Implement the following functions\n",
    "* Implement `neural_net_image_input`\n",
    " * Return a [TF Placeholder](https://www.tensorflow.org/api_docs/python/tf/placeholder)\n",
    " * Set the shape using `image_shape` with batch size set to `None`.\n",
    " * Name the TensorFlow placeholder \"x\" using the TensorFlow `name` parameter in the [TF Placeholder](https://www.tensorflow.org/api_docs/python/tf/placeholder).\n",
    "* Implement `neural_net_label_input`\n",
    " * Return a [TF Placeholder](https://www.tensorflow.org/api_docs/python/tf/placeholder)\n",
    " * Set the shape using `n_classes` with batch size set to `None`.\n",
    " * Name the TensorFlow placeholder \"y\" using the TensorFlow `name` parameter in the [TF Placeholder](https://www.tensorflow.org/api_docs/python/tf/placeholder).\n",
    "* Implement `neural_net_keep_prob_input`\n",
    " * Return a [TF Placeholder](https://www.tensorflow.org/api_docs/python/tf/placeholder) for dropout keep probability.\n",
    " * Name the TensorFlow placeholder \"keep_prob\" using the TensorFlow `name` parameter in the [TF Placeholder](https://www.tensorflow.org/api_docs/python/tf/placeholder).\n",
    "\n",
    "These names will be used at the end of the project to load your saved model.\n",
    "\n",
    "Note: `None` for shapes in TensorFlow allow for a dynamic size."
   ]
  },
  {
   "cell_type": "code",
   "execution_count": 2,
   "metadata": {
    "collapsed": false,
    "deletable": true,
    "editable": true
   },
   "outputs": [
    {
     "name": "stdout",
     "output_type": "stream",
     "text": [
      "Image Input Tests Passed.\n",
      "Label Input Tests Passed.\n",
      "Keep Prob Tests Passed.\n"
     ]
    }
   ],
   "source": [
    "import tensorflow as tf\n",
    "\n",
    "def neural_net_image_input(image_shape):\n",
    "    \"\"\"\n",
    "    Return a Tensor for a batch of image input\n",
    "    : image_shape: Shape of the images\n",
    "    : return: Tensor for image input.\n",
    "    \"\"\"\n",
    "    output = tf.placeholder(tf.float32, [None, *image_shape], name=\"x\")\n",
    "    return output\n",
    "\n",
    "\n",
    "def neural_net_label_input(n_classes):\n",
    "    \"\"\"\n",
    "    Return a Tensor for a batch of label input\n",
    "    : n_classes: Number of classes\n",
    "    : return: Tensor for label input.\n",
    "    \"\"\"\n",
    "    return tf.placeholder(tf.int32, [None, n_classes], name=\"y\")\n",
    "\n",
    "\n",
    "def neural_net_keep_prob_input():\n",
    "    \"\"\"\n",
    "    Return a Tensor for keep probability\n",
    "    : return: Tensor for keep probability.\n",
    "    \"\"\"\n",
    "    return tf.placeholder(tf.float32, name=\"keep_prob\")\n",
    "\n",
    "\n",
    "\"\"\"\n",
    "DON'T MODIFY ANYTHING IN THIS CELL THAT IS BELOW THIS LINE\n",
    "\"\"\"\n",
    "tf.reset_default_graph()\n",
    "tests.test_nn_image_inputs(neural_net_image_input)\n",
    "tests.test_nn_label_inputs(neural_net_label_input)\n",
    "tests.test_nn_keep_prob_inputs(neural_net_keep_prob_input)"
   ]
  },
  {
   "cell_type": "markdown",
   "metadata": {
    "deletable": true,
    "editable": true
   },
   "source": [
    "### Convolution and Max Pooling Layer\n",
    "Convolution layers have a lot of success with images. For this code cell, you should implement the function `conv2d_maxpool` to apply convolution then max pooling:\n",
    "* Create the weight and bias using `conv_ksize`, `conv_num_outputs` and the shape of `x_tensor`.\n",
    "* Apply a convolution to `x_tensor` using weight and `conv_strides`.\n",
    " * We recommend you use same padding, but you're welcome to use any padding.\n",
    "* Add bias\n",
    "* Add a nonlinear activation to the convolution.\n",
    "* Apply Max Pooling using `pool_ksize` and `pool_strides`.\n",
    " * We recommend you use same padding, but you're welcome to use any padding.\n",
    "\n",
    "**Note:** You **can't** use [TensorFlow Layers](https://www.tensorflow.org/api_docs/python/tf/layers) or [TensorFlow Layers (contrib)](https://www.tensorflow.org/api_guides/python/contrib.layers) for **this** layer, but you can still use TensorFlow's [Neural Network](https://www.tensorflow.org/api_docs/python/tf/nn) package. You may still use the shortcut option for all the **other** layers."
   ]
  },
  {
   "cell_type": "code",
   "execution_count": 3,
   "metadata": {
    "collapsed": false,
    "deletable": true,
    "editable": true
   },
   "outputs": [
    {
     "name": "stdout",
     "output_type": "stream",
     "text": [
      "Tests Passed\n"
     ]
    }
   ],
   "source": [
    "WEIGHT_MEAN = 0.0\n",
    "WEIGHT_STDEV = .01\n",
    "\n",
    "def conv2d_maxpool(x_tensor, conv_num_outputs, conv_ksize, conv_strides, pool_ksize, pool_strides):\n",
    "    \"\"\"\n",
    "    Apply convolution then max pooling to x_tensor\n",
    "    :param x_tensor: TensorFlow Tensor\n",
    "    :param conv_num_outputs: Number of outputs for the convolutional layer\n",
    "    :param conv_ksize: kernal size 2-D Tuple for the convolutional layer\n",
    "    :param conv_strides: Stride 2-D Tuple for convolution\n",
    "    :param pool_ksize: kernal size 2-D Tuple for pool\n",
    "    :param pool_strides: Stride 2-D Tuple for pool\n",
    "    : return: A tensor that represents convolution and max pooling of x_tensor\n",
    "    \"\"\"\n",
    "    #get the size of the color channel\n",
    "    number_color_channels = int(x_tensor.get_shape()[-1])\n",
    "    \n",
    "    #create the variables needed\n",
    "    conv_later_weights = tf.Variable(tf.truncated_normal([*conv_ksize, number_color_channels, conv_num_outputs], \n",
    "                                                         mean=WEIGHT_MEAN, stddev=WEIGHT_STDEV))\n",
    "    bias_layer = tf.Variable(tf.zeros(conv_num_outputs))\n",
    "    \n",
    "    #construct the convolutional layer\n",
    "    conv_layer = tf.nn.conv2d(x_tensor, conv_later_weights, strides=[1 , *conv_strides, 1], padding='SAME')\n",
    "    conv_layer = tf.nn.bias_add(conv_layer, bias_layer)\n",
    "    \n",
    "    #apply a nonlinear activation\n",
    "    relu_layer = tf.nn.relu(conv_layer)\n",
    "    \n",
    "    #perform max pooling\n",
    "    pool_layer = tf.nn.max_pool(relu_layer,\n",
    "                                ksize=[1, *pool_ksize, 1],\n",
    "                                strides=[1, *pool_strides,1],\n",
    "                                padding='SAME')\n",
    "\n",
    "    return pool_layer \n",
    "\n",
    "\n",
    "\"\"\"\n",
    "DON'T MODIFY ANYTHING IN THIS CELL THAT IS BELOW THIS LINE\n",
    "\"\"\"\n",
    "tests.test_con_pool(conv2d_maxpool)"
   ]
  },
  {
   "cell_type": "markdown",
   "metadata": {
    "deletable": true,
    "editable": true
   },
   "source": [
    "### Flatten Layer\n",
    "Implement the `flatten` function to change the dimension of `x_tensor` from a 4-D tensor to a 2-D tensor.  The output should be the shape (*Batch Size*, *Flattened Image Size*). Shortcut option: you can use classes from the [TensorFlow Layers](https://www.tensorflow.org/api_docs/python/tf/layers) or [TensorFlow Layers (contrib)](https://www.tensorflow.org/api_guides/python/contrib.layers) packages for this layer. For more of a challenge, only use other TensorFlow packages."
   ]
  },
  {
   "cell_type": "code",
   "execution_count": 4,
   "metadata": {
    "collapsed": false,
    "deletable": true,
    "editable": true
   },
   "outputs": [
    {
     "name": "stdout",
     "output_type": "stream",
     "text": [
      "Tests Passed\n"
     ]
    }
   ],
   "source": [
    "def flatten(x_tensor):\n",
    "    \"\"\"\n",
    "    Flatten x_tensor to (Batch Size, Flattened Image Size)\n",
    "    : x_tensor: A tensor of size (Batch Size, ...), where ... are the image dimensions.\n",
    "    : return: A tensor of size (Batch Size, Flattened Image Size).\n",
    "    \"\"\"\n",
    "    #get the old size\n",
    "    old_size = x_tensor.get_shape()\n",
    "    total_number_of_data_points = int(old_size[1]) * int(old_size[2]) * int(old_size[3])\n",
    "    x_tensor_flattened = tf.reshape(x_tensor, [-1, total_number_of_data_points])\n",
    "    #I have no idea why [None, total_number_of_data_points] didn't work there...\n",
    "    return x_tensor_flattened\n",
    "\n",
    "\n",
    "\"\"\"\n",
    "DON'T MODIFY ANYTHING IN THIS CELL THAT IS BELOW THIS LINE\n",
    "\"\"\"\n",
    "tests.test_flatten(flatten)"
   ]
  },
  {
   "cell_type": "markdown",
   "metadata": {
    "deletable": true,
    "editable": true
   },
   "source": [
    "### Fully-Connected Layer\n",
    "Implement the `fully_conn` function to apply a fully connected layer to `x_tensor` with the shape (*Batch Size*, *num_outputs*). Shortcut option: you can use classes from the [TensorFlow Layers](https://www.tensorflow.org/api_docs/python/tf/layers) or [TensorFlow Layers (contrib)](https://www.tensorflow.org/api_guides/python/contrib.layers) packages for this layer. For more of a challenge, only use other TensorFlow packages."
   ]
  },
  {
   "cell_type": "code",
   "execution_count": 5,
   "metadata": {
    "collapsed": false,
    "deletable": true,
    "editable": true
   },
   "outputs": [
    {
     "name": "stdout",
     "output_type": "stream",
     "text": [
      "Tests Passed\n"
     ]
    }
   ],
   "source": [
    "def fully_conn(x_tensor, num_outputs):\n",
    "    \"\"\"\n",
    "    Apply a fully connected layer to x_tensor using weight and bias\n",
    "    : x_tensor: A 2-D tensor where the first dimension is batch size.\n",
    "    : num_outputs: The number of output that the new tensor should be.\n",
    "    : return: A 2-D tensor where the second dimension is num_outputs.\n",
    "    \"\"\"\n",
    "    #calculate shapes\n",
    "    input_shape = x_tensor.get_shape().as_list()\n",
    "    weight_shape = [*input_shape[1:], num_outputs]\n",
    "    \n",
    "    #initialize weights\n",
    "    layer_weights = tf.Variable(tf.truncated_normal(weight_shape, \n",
    "                                                         mean=WEIGHT_MEAN, stddev=WEIGHT_STDEV))\n",
    "    bias_terms = tf.Variable(tf.zeros(num_outputs))\n",
    "    \n",
    "    #perform calculations\n",
    "    linear_transform = tf.matmul(x_tensor, layer_weights)\n",
    "    linear_transform = tf.add(linear_transform, bias_terms)\n",
    "    \n",
    "    output = tf.nn.relu(linear_transform)\n",
    "    return linear_transform\n",
    "\n",
    "\n",
    "\"\"\"\n",
    "DON'T MODIFY ANYTHING IN THIS CELL THAT IS BELOW THIS LINE\n",
    "\"\"\"\n",
    "tests.test_fully_conn(fully_conn)"
   ]
  },
  {
   "cell_type": "markdown",
   "metadata": {
    "deletable": true,
    "editable": true
   },
   "source": [
    "### Output Layer\n",
    "Implement the `output` function to apply a fully connected layer to `x_tensor` with the shape (*Batch Size*, *num_outputs*). Shortcut option: you can use classes from the [TensorFlow Layers](https://www.tensorflow.org/api_docs/python/tf/layers) or [TensorFlow Layers (contrib)](https://www.tensorflow.org/api_guides/python/contrib.layers) packages for this layer. For more of a challenge, only use other TensorFlow packages.\n",
    "\n",
    "**Note:** Activation, softmax, or cross entropy should **not** be applied to this."
   ]
  },
  {
   "cell_type": "code",
   "execution_count": 6,
   "metadata": {
    "collapsed": false,
    "deletable": true,
    "editable": true
   },
   "outputs": [
    {
     "name": "stdout",
     "output_type": "stream",
     "text": [
      "Tests Passed\n"
     ]
    }
   ],
   "source": [
    "def output(x_tensor, num_outputs):\n",
    "    \"\"\"\n",
    "    Apply a output layer to x_tensor using weight and bias\n",
    "    : x_tensor: A 2-D tensor where the first dimension is batch size.\n",
    "    : num_outputs: The number of output that the new tensor should be.\n",
    "    : return: A 2-D tensor where the second dimension is num_outputs.\n",
    "    \"\"\"\n",
    "    #calculate shapes\n",
    "    input_shape = x_tensor.get_shape().as_list()\n",
    "    weight_shape = [*input_shape[1:], num_outputs]\n",
    "    \n",
    "    #initialize weights\n",
    "    layer_weights = tf.Variable(tf.truncated_normal(weight_shape, \n",
    "                                                         mean=WEIGHT_MEAN, stddev=WEIGHT_STDEV))\n",
    "    bias_terms = tf.Variable(tf.zeros(num_outputs))\n",
    "    \n",
    "    #perform calculations\n",
    "    linear_transform = tf.matmul(x_tensor, layer_weights)\n",
    "    linear_transform = tf.add(linear_transform, bias_terms)\n",
    "    \n",
    "    return linear_transform\n",
    "\n",
    "\n",
    "\"\"\"\n",
    "DON'T MODIFY ANYTHING IN THIS CELL THAT IS BELOW THIS LINE\n",
    "\"\"\"\n",
    "tests.test_output(output)"
   ]
  },
  {
   "cell_type": "markdown",
   "metadata": {
    "deletable": true,
    "editable": true
   },
   "source": [
    "### Create Convolutional Model\n",
    "Implement the function `conv_net` to create a convolutional neural network model. The function takes in a batch of images, `x`, and outputs logits.  Use the layers you created above to create this model:\n",
    "\n",
    "* Apply 1, 2, or 3 Convolution and Max Pool layers\n",
    "* Apply a Flatten Layer\n",
    "* Apply 1, 2, or 3 Fully Connected Layers\n",
    "* Apply an Output Layer\n",
    "* Return the output\n",
    "* Apply [TensorFlow's Dropout](https://www.tensorflow.org/api_docs/python/tf/nn/dropout) to one or more layers in the model using `keep_prob`. "
   ]
  },
  {
   "cell_type": "code",
   "execution_count": 7,
   "metadata": {
    "collapsed": false,
    "deletable": true,
    "editable": true
   },
   "outputs": [
    {
     "name": "stdout",
     "output_type": "stream",
     "text": [
      "Neural Network Built!\n"
     ]
    }
   ],
   "source": [
    "def conv_net(x, keep_prob, filter_square_length = 4 ):\n",
    "    \"\"\"\n",
    "    Create a convolutional neural network model\n",
    "    : x: Placeholder tensor that holds image data.\n",
    "    : keep_prob: Placeholder tensor that hold dropout keep probability.\n",
    "    : return: Tensor that represents logits\n",
    "    \"\"\"\n",
    "    DEBUG = False\n",
    "    def print_if(a, b):\n",
    "        if DEBUG:\n",
    "            total = 1\n",
    "            for n in b[1:]:\n",
    "                n = int(n)\n",
    "                total = total*n\n",
    "            print(a, b, total)\n",
    "        else:\n",
    "            pass\n",
    "        \n",
    "    input_shape = x.get_shape()\n",
    "    print_if(\"input shape\", input_shape)\n",
    "    image_rectangle_size = input_shape[1:3]\n",
    "    number_color_channels = input_shape[3]\n",
    "    \n",
    "    number_pixels_starting = number_color_channels * image_rectangle_size[0] * image_rectangle_size[1]\n",
    "    #^^~3000\n",
    "    first_filter_size = [filter_square_length,filter_square_length]\n",
    "    first_filter_strides = [1,1]\n",
    "    \n",
    "    first_pool_size = [2,2]\n",
    "    first_pool_strides = [2,2]\n",
    "    \n",
    "    final_output_shape = [None, num_labels]\n",
    "    \n",
    "    first_convPool_output_size = 13\n",
    "    \n",
    "    #first conv/pool layer\n",
    "    intermediate_layer = conv2d_maxpool(x_tensor=x, \n",
    "                                   conv_num_outputs = first_convPool_output_size, \n",
    "                                   conv_ksize = first_filter_size, \n",
    "                                   conv_strides = first_filter_strides, \n",
    "                                   pool_ksize = first_pool_size, \n",
    "                                   pool_strides = first_pool_strides)\n",
    "    print_if(\"after 1st conv. shape\", intermediate_layer.get_shape())\n",
    "    #second conv/pool layer?\n",
    "    second_filter_size = [filter_square_length,filter_square_length]\n",
    "    second_filter_strides = [1,1]\n",
    "    \n",
    "    second_pool_size = [2,2]\n",
    "    second_pool_strides = [2,2]\n",
    "    \n",
    "    second_convPool_output_size = first_convPool_output_size*4\n",
    "    \n",
    "    intermediate_layer = conv2d_maxpool(x_tensor = intermediate_layer, \n",
    "                                   conv_num_outputs = second_convPool_output_size, \n",
    "                                   conv_ksize = second_filter_size, \n",
    "                                   conv_strides = second_filter_strides, \n",
    "                                   pool_ksize = second_pool_size, \n",
    "                                   pool_strides = second_pool_strides)\n",
    "    print_if(\"after 2nd conv. shape\", intermediate_layer.get_shape())\n",
    "    \n",
    "    #third conv/pool layer?\n",
    "    third_filter_size = [filter_square_length,filter_square_length]\n",
    "    third_filter_strides = [1,1]\n",
    "    \n",
    "    third_pool_size = [2,2]\n",
    "    third_pool_strides = [2,2]\n",
    "    \n",
    "    third_convPool_output_size = second_convPool_output_size*4\n",
    "    \n",
    "    intermediate_layer = conv2d_maxpool(x_tensor = intermediate_layer, \n",
    "                                   conv_num_outputs = third_convPool_output_size, \n",
    "                                   conv_ksize = third_filter_size, \n",
    "                                   conv_strides = third_filter_strides, \n",
    "                                   pool_ksize = third_pool_size, \n",
    "                                   pool_strides = third_pool_strides)\n",
    "    print_if(\"after 3rd conv. shape\", intermediate_layer.get_shape())\n",
    "    \n",
    "    \n",
    "    # Function Definition from Above:\n",
    "    intermediate_layer = flatten(intermediate_layer)\n",
    "    print_if(\"after flattening shape:\", intermediate_layer.get_shape())\n",
    "\n",
    "    #    Play around with different number of outputs\n",
    "    # Function Definition from Above:\n",
    "    intermediate_layer = fully_conn(intermediate_layer, 4000)\n",
    "    intermediate_layer = tf.nn.dropout(intermediate_layer, keep_prob = keep_prob)\n",
    "    print_if(\"after 1st fully con/dropout shape:\", intermediate_layer.get_shape())\n",
    "#     intermediate_layer = fully_conn(intermediate_layer, 3000)\n",
    "#     intermediate_layer = tf.nn.dropout(intermediate_layer, keep_prob = keep_prob)\n",
    "#     print_if(\"after 2nd fully con/dropout shape:\", intermediate_layer.get_shape())\n",
    "#     intermediate_layer = fully_conn(intermediate_layer, 2000)\n",
    "#     intermediate_layer = tf.nn.dropout(intermediate_layer, keep_prob = keep_prob)\n",
    "#     print_if(\"after 3rd fully con/dropout shape:\", intermediate_layer.get_shape())\n",
    "    \n",
    "    \n",
    "    #    Set this to the number of classes\n",
    "    # Function Definition from Above:\n",
    "    intermediate_layer = output(intermediate_layer, num_labels)\n",
    "\n",
    "\n",
    "\n",
    "    \n",
    "    print_if(\"output shape:\", intermediate_layer.get_shape())\n",
    "    print_if(\"-----\", [1])\n",
    "    return intermediate_layer\n",
    "\n",
    "\n",
    "\"\"\"\n",
    "DON'T MODIFY ANYTHING IN THIS CELL THAT IS BELOW THIS LINE\n",
    "\"\"\"\n",
    "\n",
    "##############################\n",
    "## Build the Neural Network ##\n",
    "##############################\n",
    "\n",
    "global x, y, keep_prob, logits, cost, optimizer, correct_pred, accuracy\n",
    "# Remove previous weights, bias, inputs, etc..\n",
    "tf.reset_default_graph()\n",
    "\n",
    "# Inputs\n",
    "x = neural_net_image_input((32, 32, 3))\n",
    "y = neural_net_label_input(10)\n",
    "keep_prob = neural_net_keep_prob_input()\n",
    "\n",
    "# Model\n",
    "logits = conv_net(x, keep_prob)\n",
    "\n",
    "# Name logits Tensor, so that is can be loaded from disk after training\n",
    "logits = tf.identity(logits, name='logits')\n",
    "\n",
    "# Loss and Optimizer\n",
    "cost = tf.reduce_mean(tf.nn.softmax_cross_entropy_with_logits(logits=logits, labels=y))\n",
    "optimizer = tf.train.AdamOptimizer().minimize(cost)\n",
    "\n",
    "# Accuracy\n",
    "correct_pred = tf.equal(tf.argmax(logits, 1), tf.argmax(y, 1))\n",
    "accuracy = tf.reduce_mean(tf.cast(correct_pred, tf.float32), name='accuracy')\n",
    "\n",
    "\n",
    "tests.test_conv_net(conv_net)"
   ]
  },
  {
   "cell_type": "markdown",
   "metadata": {
    "deletable": true,
    "editable": true
   },
   "source": [
    "## Train the Neural Network\n",
    "### Single Optimization\n",
    "Implement the function `train_neural_network` to do a single optimization.  The optimization should use `optimizer` to optimize in `session` with a `feed_dict` of the following:\n",
    "* `x` for image input\n",
    "* `y` for labels\n",
    "* `keep_prob` for keep probability for dropout\n",
    "\n",
    "This function will be called for each batch, so `tf.global_variables_initializer()` has already been called.\n",
    "\n",
    "Note: Nothing needs to be returned. This function is only optimizing the neural network."
   ]
  },
  {
   "cell_type": "code",
   "execution_count": 8,
   "metadata": {
    "collapsed": false,
    "deletable": true,
    "editable": true
   },
   "outputs": [
    {
     "name": "stdout",
     "output_type": "stream",
     "text": [
      "Tests Passed\n"
     ]
    }
   ],
   "source": [
    "def train_neural_network(session, optimizer, keep_probability, feature_batch, label_batch):\n",
    "    \"\"\"\n",
    "    Optimize the session on a batch of images and labels\n",
    "    : session: Current TensorFlow session\n",
    "    : optimizer: TensorFlow optimizer function\n",
    "    : keep_probability: keep probability\n",
    "    : feature_batch: Batch of Numpy image data\n",
    "    : label_batch: Batch of Numpy label data\n",
    "    \"\"\"\n",
    "    session.run(optimizer, feed_dict = {'x:0': feature_batch, \n",
    "                                        'y:0': label_batch, \n",
    "                                        'keep_prob:0' : keep_probability})\n",
    "    \n",
    "\n",
    "\n",
    "\"\"\"\n",
    "DON'T MODIFY ANYTHING IN THIS CELL THAT IS BELOW THIS LINE\n",
    "\"\"\"\n",
    "tests.test_train_nn(train_neural_network)"
   ]
  },
  {
   "cell_type": "markdown",
   "metadata": {
    "deletable": true,
    "editable": true
   },
   "source": [
    "### Show Stats\n",
    "Implement the function `print_stats` to print loss and validation accuracy.  Use the global variables `valid_features` and `valid_labels` to calculate validation accuracy.  Use a keep probability of `1.0` to calculate the loss and validation accuracy."
   ]
  },
  {
   "cell_type": "code",
   "execution_count": 9,
   "metadata": {
    "collapsed": false,
    "deletable": true,
    "editable": true
   },
   "outputs": [],
   "source": [
    "validation_accuracies = []\n",
    "batch_accuracies = []\n",
    "QUIT_AT_PERCENT_OVER = .20\n",
    "class ValidationBatchGapTooBig(Exception):\n",
    "    pass\n",
    "    \n",
    "def print_stats(session, feature_batch, label_batch, cost, accuracy):\n",
    "    \"\"\"\n",
    "    Print information about loss and validation accuracy\n",
    "    : session: Current TensorFlow session\n",
    "    : feature_batch: Batch of Numpy image data\n",
    "    : label_batch: Batch of Numpy label data\n",
    "    : cost: TensorFlow cost function\n",
    "    : accuracy: TensorFlow accuracy function\n",
    "    \"\"\"\n",
    "    global validation_accuracies, batch_accuracies\n",
    "    validation_accuracy = session.run(accuracy, feed_dict = {'x:0': valid_features, \n",
    "                                        'y:0': valid_labels, \n",
    "                                        'keep_prob:0' : 1.0})\n",
    "#     validation_improvement = validation_accuracy / last_validation_accuracy\n",
    "#     last_validation_accuracy = validation_accuracy\n",
    "    validation_accuracies.append(validation_accuracy)\n",
    "    \n",
    "    batch_accuracy = session.run(accuracy, feed_dict = {'x:0': feature_batch, \n",
    "                                        'y:0': label_batch, \n",
    "                                        'keep_prob:0' : 1.0})\n",
    "#     batch_improvement = batch_accuracy / last_batch_accuracy\n",
    "#     last_batch_accuracy = batch_accuracy\n",
    "    batch_accuracies.append(batch_accuracy)\n",
    "    \n",
    "    cost_amount = session.run(cost, feed_dict = {'x:0': feature_batch, \n",
    "                                        'y:0': label_batch, \n",
    "                                        'keep_prob:0' : 1.0})\n",
    "    \n",
    "    batch_to_valid_ratio = batch_accuracy/validation_accuracy - 1.0\n",
    "    \n",
    "#     print(\"\\nCost Function: %2.2f | Batch Acc. : %.4f | Valid. Acc.: %.4f | Ratio : %.4f\"%( cost_amount, batch_accuracy, validation_accuracy, batch_to_valid_ratio))\n",
    "#     print(\"CHANGES: Batch Acc. : %.4f | Valid. Acc.: %.4f \"%(batch_improvement, validation_improvement))\n",
    "\n",
    "    if batch_to_valid_ratio > QUIT_AT_PERCENT_OVER:\n",
    "        keep_going = False\n",
    "    else:\n",
    "        keep_going = True\n",
    "    return validation_accuracy, batch_accuracy, keep_going\n",
    "    \n",
    "    "
   ]
  },
  {
   "cell_type": "markdown",
   "metadata": {
    "deletable": true,
    "editable": true
   },
   "source": [
    "### Hyperparameters\n",
    "Tune the following parameters:\n",
    "* Set `epochs` to the number of iterations until the network stops learning or start overfitting\n",
    "* Set `batch_size` to the highest number that your machine has memory for.  Most people set them to common sizes of memory:\n",
    " * 64\n",
    " * 128\n",
    " * 256\n",
    " * ...\n",
    "* Set `keep_probability` to the probability of keeping a node using dropout"
   ]
  },
  {
   "cell_type": "code",
   "execution_count": 10,
   "metadata": {
    "collapsed": true,
    "deletable": true,
    "editable": true
   },
   "outputs": [],
   "source": [
    "# TODO: Tune Parameters\n",
    "epochs = 100\n",
    "batch_size = 512\n",
    "keep_probability = .5"
   ]
  },
  {
   "cell_type": "markdown",
   "metadata": {
    "deletable": true,
    "editable": true
   },
   "source": [
    "### Train on a Single CIFAR-10 Batch\n",
    "Instead of training the neural network on all the CIFAR-10 batches of data, let's use a single batch. This should save time while you iterate on the model to get a better accuracy.  Once the final validation accuracy is 50% or greater, run the model on all the data in the next section."
   ]
  },
  {
   "cell_type": "code",
   "execution_count": 11,
   "metadata": {
    "collapsed": false,
    "deletable": true,
    "editable": true
   },
   "outputs": [
    {
     "name": "stderr",
     "output_type": "stream",
     "text": [
      "\r",
      "  0%|          | 0/50 [00:00<?, ?it/s]"
     ]
    },
    {
     "name": "stdout",
     "output_type": "stream",
     "text": [
      "Starting keep_prob 0.6847\n"
     ]
    },
    {
     "name": "stderr",
     "output_type": "stream",
     "text": [
      "\r",
      "  2%|▏         | 1/50 [00:31<25:36, 31.37s/it]"
     ]
    },
    {
     "name": "stdout",
     "output_type": "stream",
     "text": [
      "batch acc: 0.189189 | valid. acc: 0.179800 | ratio 0.052220\n"
     ]
    },
    {
     "name": "stderr",
     "output_type": "stream",
     "text": [
      " 22%|██▏       | 11/50 [05:17<18:36, 28.64s/it]"
     ]
    },
    {
     "name": "stdout",
     "output_type": "stream",
     "text": [
      "batch acc: 0.459459 | valid. acc: 0.456800 | ratio 0.005822\n"
     ]
    },
    {
     "name": "stderr",
     "output_type": "stream",
     "text": [
      " 38%|███▊      | 19/50 [09:05<14:45, 28.56s/it]"
     ]
    },
    {
     "name": "stdout",
     "output_type": "stream",
     "text": [
      "Accuracy Gap too big at epoch 19, quitting, best validation accuracy 0.5242\n",
      "Found better option! with accuracy 0.524200\n"
     ]
    },
    {
     "data": {
      "image/png": "[encoded data removed]",
      "text/plain": [
       "<matplotlib.figure.Figure at 0x7f750d253f60>"
      ]
     },
     "metadata": {},
     "output_type": "display_data"
    }
   ],
   "source": [
    "MAX_TRIES = 1\n",
    "MAX_EPOCHS = 50\n",
    "\n",
    "keep_prob_range = [.4, .9]\n",
    "best_performing_keep_probability = 0.5\n",
    "best_validation_accuracy = 0.0\n",
    "best_epoch_number = 0\n",
    "best_histories = None\n",
    "\"\"\"\n",
    "DON'T MODIFY ANYTHING IN THIS CELL  Sorry I'm a rebel!\n",
    "\"\"\"\n",
    "for try_number in range(MAX_TRIES):\n",
    "    \n",
    "    validation_accuracies = []\n",
    "    batch_accuracies = []\n",
    "    \n",
    "    new_keep_probability = np.random.random() * (keep_prob_range[1] - keep_prob_range[0]) + keep_prob_range[0]\n",
    "    \n",
    "    keep_probability = .6847# new_keep_probability\n",
    "    \n",
    "    # print('Checking the Training on a Single Batch...')\n",
    "    with tf.Session() as sess:\n",
    "        # Initializing the variables\n",
    "        sess.run(tf.global_variables_initializer())\n",
    "\n",
    "        # Training cycle\n",
    "        print(\"Starting keep_prob %.4f\" % keep_probability)\n",
    "        for epoch_number in tqdm.trange(MAX_EPOCHS):\n",
    "            epoch = epoch_number\n",
    "            batch_i = 1\n",
    "            for batch_features, batch_labels in helper.load_preprocess_training_batch(batch_i, batch_size):\n",
    "                train_neural_network(sess, optimizer, keep_probability, batch_features, batch_labels)\n",
    "#             print('Epoch {:>2}, CIFAR-10 Batch {}:  '.format(epoch + 1, batch_i), end='')\n",
    "            validation_Accuracy_this_epoch, batch_Acc,  keep_going = print_stats(sess, batch_features, batch_labels, cost, accuracy)\n",
    "            if epoch_number % 10 == 0:\n",
    "                ratio = batch_Acc/validation_Accuracy_this_epoch - 1.0\n",
    "                print(\"batch acc: %f | valid. acc: %f | ratio %f\" % (batch_Acc, validation_Accuracy_this_epoch, ratio))\n",
    "            if keep_going:\n",
    "                continue\n",
    "            else:\n",
    "                #give it some time to match...\n",
    "                if epoch_number < 10:\n",
    "                    continue\n",
    "                print(\"Accuracy Gap too big at epoch %i, quitting, best validation accuracy %.4f\" % (epoch, validation_Accuracy_this_epoch))\n",
    "                break\n",
    "                \n",
    "        \n",
    "        if validation_Accuracy_this_epoch > best_validation_accuracy:\n",
    "            print(\"Found better option! with accuracy %f\" % validation_Accuracy_this_epoch )\n",
    "            best_performing_keep_probability = keep_probability\n",
    "            best_validation_accuracy = validation_Accuracy_this_epoch\n",
    "            best_epoch_number = epoch\n",
    "            best_histories = (validation_accuracies, batch_accuracies)\n",
    "            \n",
    "#     plt.figure()\n",
    "#     plt.title(r\"$p_k=%.4f$\" % keep_probability)\n",
    "#     plt.plot(batch_accuracies, label=\"batch\")\n",
    "#     plt.plot(validation_accuracies, label=\"valid\")\n",
    "#     plt.legend(loc=0)\n",
    "\n",
    "plt.figure()\n",
    "best_validation, best_batch = best_histories\n",
    "plt.title(r\"$p_k=%.4f$\" % best_performing_keep_probability)\n",
    "plt.plot(best_batch, label=\"batch\")\n",
    "plt.plot(best_validation, label=\"valid\")\n",
    "plt.legend(loc=0)\n",
    "\n",
    "keep_prob = best_performing_keep_probability\n",
    "epochs = best_epoch_number"
   ]
  },
  {
   "cell_type": "code",
   "execution_count": 12,
   "metadata": {
    "collapsed": true,
    "deletable": true,
    "editable": true
   },
   "outputs": [],
   "source": [
    "#based on the graph, we'll chose 13 epcohs for the full training to aovid overtraining:\n",
    "epochs = 13"
   ]
  },
  {
   "cell_type": "markdown",
   "metadata": {
    "deletable": true,
    "editable": true
   },
   "source": [
    "### Fully Train the Model\n",
    "Now that you got a good accuracy with a single CIFAR-10 batch, try it with all five batches."
   ]
  },
  {
   "cell_type": "code",
   "execution_count": 13,
   "metadata": {
    "collapsed": false,
    "deletable": true,
    "editable": true
   },
   "outputs": [
    {
     "name": "stdout",
     "output_type": "stream",
     "text": [
      "Training...\n",
      "Epoch  1, CIFAR-10 Batch 1:  batch acc: 0.222973 | valid. acc: 0.207400 | ratio 0.075087\n",
      "Epoch  1, CIFAR-10 Batch 2:  batch acc: 0.233108 | valid. acc: 0.251200 | ratio -0.072022\n",
      "Epoch  1, CIFAR-10 Batch 3:  batch acc: 0.341216 | valid. acc: 0.298800 | ratio 0.141955\n",
      "Epoch  1, CIFAR-10 Batch 4:  batch acc: 0.361486 | valid. acc: 0.337400 | ratio 0.071389\n",
      "Epoch  1, CIFAR-10 Batch 5:  batch acc: 0.385135 | valid. acc: 0.379000 | ratio 0.016188\n",
      "Epoch  2, CIFAR-10 Batch 1:  batch acc: 0.381757 | valid. acc: 0.400600 | ratio -0.047038\n",
      "Epoch  2, CIFAR-10 Batch 2:  batch acc: 0.466216 | valid. acc: 0.411400 | ratio 0.133243\n",
      "Epoch  2, CIFAR-10 Batch 3:  batch acc: 0.489865 | valid. acc: 0.425400 | ratio 0.151539\n",
      "Epoch  2, CIFAR-10 Batch 4:  batch acc: 0.439189 | valid. acc: 0.448400 | ratio -0.020541\n",
      "Epoch  2, CIFAR-10 Batch 5:  batch acc: 0.469595 | valid. acc: 0.458800 | ratio 0.023528\n",
      "Epoch  3, CIFAR-10 Batch 1:  batch acc: 0.479730 | valid. acc: 0.458400 | ratio 0.046531\n",
      "Epoch  3, CIFAR-10 Batch 2:  batch acc: 0.523649 | valid. acc: 0.479400 | ratio 0.092300\n",
      "Epoch  3, CIFAR-10 Batch 3:  batch acc: 0.533784 | valid. acc: 0.482800 | ratio 0.105600\n",
      "Epoch  3, CIFAR-10 Batch 4:  batch acc: 0.496622 | valid. acc: 0.489000 | ratio 0.015586\n",
      "Epoch  3, CIFAR-10 Batch 5:  batch acc: 0.540541 | valid. acc: 0.504400 | ratio 0.071651\n",
      "Epoch  4, CIFAR-10 Batch 1:  batch acc: 0.472973 | valid. acc: 0.510800 | ratio -0.074055\n",
      "Epoch  4, CIFAR-10 Batch 2:  batch acc: 0.540541 | valid. acc: 0.518200 | ratio 0.043112\n",
      "Epoch  4, CIFAR-10 Batch 3:  batch acc: 0.554054 | valid. acc: 0.519400 | ratio 0.066719\n",
      "Epoch  4, CIFAR-10 Batch 4:  batch acc: 0.574324 | valid. acc: 0.529400 | ratio 0.084859\n",
      "Epoch  4, CIFAR-10 Batch 5:  batch acc: 0.547297 | valid. acc: 0.543600 | ratio 0.006801\n",
      "Epoch  5, CIFAR-10 Batch 1:  batch acc: 0.550676 | valid. acc: 0.557000 | ratio -0.011354\n",
      "Epoch  5, CIFAR-10 Batch 2:  batch acc: 0.567568 | valid. acc: 0.544000 | ratio 0.043323\n",
      "Epoch  5, CIFAR-10 Batch 3:  batch acc: 0.584459 | valid. acc: 0.557600 | ratio 0.048170\n",
      "Epoch  5, CIFAR-10 Batch 4:  batch acc: 0.628378 | valid. acc: 0.555400 | ratio 0.131398\n",
      "Epoch  5, CIFAR-10 Batch 5:  batch acc: 0.591216 | valid. acc: 0.560600 | ratio 0.054613\n",
      "Epoch  6, CIFAR-10 Batch 1:  batch acc: 0.567568 | valid. acc: 0.566600 | ratio 0.001708\n",
      "Epoch  6, CIFAR-10 Batch 2:  batch acc: 0.608108 | valid. acc: 0.568200 | ratio 0.070236\n",
      "Epoch  6, CIFAR-10 Batch 3:  batch acc: 0.625000 | valid. acc: 0.587000 | ratio 0.064736\n",
      "Epoch  6, CIFAR-10 Batch 4:  batch acc: 0.679054 | valid. acc: 0.594000 | ratio 0.143189\n",
      "Epoch  6, CIFAR-10 Batch 5:  batch acc: 0.652027 | valid. acc: 0.597400 | ratio 0.091441\n",
      "Epoch  7, CIFAR-10 Batch 1:  batch acc: 0.597973 | valid. acc: 0.565600 | ratio 0.057237\n",
      "Epoch  7, CIFAR-10 Batch 2:  batch acc: 0.652027 | valid. acc: 0.607400 | ratio 0.073472\n",
      "Epoch  7, CIFAR-10 Batch 3:  batch acc: 0.668919 | valid. acc: 0.601000 | ratio 0.113010\n",
      "Epoch  7, CIFAR-10 Batch 4:  batch acc: 0.702703 | valid. acc: 0.605400 | ratio 0.160725\n",
      "Epoch  7, CIFAR-10 Batch 5:  batch acc: 0.695946 | valid. acc: 0.620400 | ratio 0.121770\n",
      "Epoch  8, CIFAR-10 Batch 1:  batch acc: 0.672297 | valid. acc: 0.609400 | ratio 0.103212\n",
      "Epoch  8, CIFAR-10 Batch 2:  batch acc: 0.658784 | valid. acc: 0.612800 | ratio 0.075039\n",
      "Epoch  8, CIFAR-10 Batch 3:  batch acc: 0.699324 | valid. acc: 0.630600 | ratio 0.108982\n",
      "Epoch  8, CIFAR-10 Batch 4:  batch acc: 0.739865 | valid. acc: 0.637600 | ratio 0.160390\n",
      "Epoch  8, CIFAR-10 Batch 5:  batch acc: 0.726351 | valid. acc: 0.641400 | ratio 0.132447\n",
      "Epoch  9, CIFAR-10 Batch 1:  batch acc: 0.689189 | valid. acc: 0.627200 | ratio 0.098835\n",
      "Epoch  9, CIFAR-10 Batch 2:  batch acc: 0.706081 | valid. acc: 0.634000 | ratio 0.113693\n",
      "Epoch  9, CIFAR-10 Batch 3:  batch acc: 0.736486 | valid. acc: 0.650000 | ratio 0.133056\n",
      "Epoch  9, CIFAR-10 Batch 4:  batch acc: 0.753378 | valid. acc: 0.654200 | ratio 0.151603\n",
      "Epoch  9, CIFAR-10 Batch 5:  batch acc: 0.750000 | valid. acc: 0.660800 | ratio 0.134988\n",
      "Epoch 10, CIFAR-10 Batch 1:  batch acc: 0.733108 | valid. acc: 0.648200 | ratio 0.130991\n",
      "Epoch 10, CIFAR-10 Batch 2:  batch acc: 0.729730 | valid. acc: 0.647200 | ratio 0.127518\n",
      "Epoch 10, CIFAR-10 Batch 3:  batch acc: 0.726351 | valid. acc: 0.650600 | ratio 0.116433\n",
      "Epoch 10, CIFAR-10 Batch 4:  batch acc: 0.780405 | valid. acc: 0.647000 | ratio 0.206191\n",
      "Epoch 10, CIFAR-10 Batch 5:  batch acc: 0.777027 | valid. acc: 0.671000 | ratio 0.158013\n",
      "Epoch 11, CIFAR-10 Batch 1:  batch acc: 0.739865 | valid. acc: 0.645400 | ratio 0.146366\n",
      "Epoch 11, CIFAR-10 Batch 2:  batch acc: 0.777027 | valid. acc: 0.670000 | ratio 0.159742\n",
      "Epoch 11, CIFAR-10 Batch 3:  batch acc: 0.756757 | valid. acc: 0.668800 | ratio 0.131514\n",
      "Epoch 11, CIFAR-10 Batch 4:  batch acc: 0.827703 | valid. acc: 0.686000 | ratio 0.206564\n",
      "Epoch 11, CIFAR-10 Batch 5:  batch acc: 0.807432 | valid. acc: 0.686200 | ratio 0.176672\n",
      "Epoch 12, CIFAR-10 Batch 1:  batch acc: 0.756757 | valid. acc: 0.670200 | ratio 0.129151\n",
      "Epoch 12, CIFAR-10 Batch 2:  batch acc: 0.787162 | valid. acc: 0.680000 | ratio 0.157591\n",
      "Epoch 12, CIFAR-10 Batch 3:  batch acc: 0.810811 | valid. acc: 0.679200 | ratio 0.193773\n",
      "Epoch 12, CIFAR-10 Batch 4:  batch acc: 0.831081 | valid. acc: 0.689600 | ratio 0.205164\n",
      "Epoch 12, CIFAR-10 Batch 5:  batch acc: 0.851351 | valid. acc: 0.692400 | ratio 0.229566\n",
      "Epoch 13, CIFAR-10 Batch 1:  batch acc: 0.777027 | valid. acc: 0.672400 | ratio 0.155602\n",
      "Epoch 13, CIFAR-10 Batch 2:  batch acc: 0.824324 | valid. acc: 0.682200 | ratio 0.208332\n",
      "Epoch 13, CIFAR-10 Batch 3:  batch acc: 0.820946 | valid. acc: 0.679200 | ratio 0.208695\n",
      "Epoch 13, CIFAR-10 Batch 4:  batch acc: 0.837838 | valid. acc: 0.689600 | ratio 0.214962\n",
      "Epoch 13, CIFAR-10 Batch 5:  batch acc: 0.864865 | valid. acc: 0.701800 | ratio 0.232352\n"
     ]
    }
   ],
   "source": [
    "validation_accuracies = []\n",
    "batch_accuracies = []\n",
    "\"\"\"\n",
    "DON'T MODIFY ANYTHING IN THIS CELL\n",
    "\"\"\"\n",
    "save_model_path = './image_classification'\n",
    "\n",
    "print('Training...')\n",
    "with tf.Session() as sess:\n",
    "    # Initializing the variables\n",
    "    sess.run(tf.global_variables_initializer())\n",
    "    \n",
    "    # Training cycle\n",
    "    for epoch in range(epochs):\n",
    "        # Loop over all batches\n",
    "        n_batches = 5\n",
    "        for batch_i in range(1, n_batches + 1):\n",
    "            for batch_features, batch_labels in helper.load_preprocess_training_batch(batch_i, batch_size):\n",
    "                train_neural_network(sess, optimizer, keep_probability, batch_features, batch_labels)\n",
    "            validation_Accuracy_this_epoch, batch_Acc,  keep_going = print_stats(sess, batch_features, batch_labels, cost, accuracy)\n",
    "            print('Epoch {:>2}, CIFAR-10 Batch {}:  '.format(epoch + 1, batch_i), end='')\n",
    "            ratio = batch_Acc/validation_Accuracy_this_epoch - 1.0\n",
    "            print(\"batch acc: %f | valid. acc: %f | ratio %f\" % (batch_Acc, validation_Accuracy_this_epoch, ratio))\n",
    "            \n",
    "    saver = tf.train.Saver()\n",
    "    save_path = saver.save(sess, save_model_path)\n",
    "\n",
    "\n"
   ]
  },
  {
   "cell_type": "code",
   "execution_count": null,
   "metadata": {
    "collapsed": false,
    "deletable": true,
    "editable": true
   },
   "outputs": [],
   "source": []
  },
  {
   "cell_type": "code",
   "execution_count": 14,
   "metadata": {
    "collapsed": false,
    "deletable": true,
    "editable": true
   },
   "outputs": [
    {
     "data": {
      "text/plain": [
       "<matplotlib.legend.Legend at 0x7f750c7fa9b0>"
      ]
     },
     "execution_count": 14,
     "metadata": {},
     "output_type": "execute_result"
    },
    {
     "data": {
      "image/png": "[encoded data removed]",
      "text/plain": [
       "<matplotlib.figure.Figure at 0x7f750d6938d0>"
      ]
     },
     "metadata": {},
     "output_type": "display_data"
    }
   ],
   "source": [
    "plt.figure()\n",
    "plt.title(r\"$p_k=%.4f$\" % keep_probability)\n",
    "plt.plot(batch_accuracies, label=\"batch\")\n",
    "plt.plot(validation_accuracies, label=\"valid\")\n",
    "plt.legend(loc=0)"
   ]
  },
  {
   "cell_type": "markdown",
   "metadata": {
    "deletable": true,
    "editable": true
   },
   "source": [
    "# Checkpoint\n",
    "The model has been saved to disk.\n",
    "## Test Model\n",
    "Test your model against the test dataset.  This will be your final accuracy. You should have an accuracy greater than 50%. If you don't, keep tweaking the model architecture and parameters."
   ]
  },
  {
   "cell_type": "code",
   "execution_count": 15,
   "metadata": {
    "collapsed": false,
    "deletable": true,
    "editable": true
   },
   "outputs": [
    {
     "name": "stdout",
     "output_type": "stream",
     "text": [
      "Testing Accuracy: 0.6995978862047195\n",
      "\n"
     ]
    },
    {
     "data": {
      "image/png": "[encoded data removed]",
      "text/plain": [
       "<matplotlib.figure.Figure at 0x7f75305beda0>"
      ]
     },
     "metadata": {
      "image/png": {
       "height": 319,
       "width": 355
      }
     },
     "output_type": "display_data"
    }
   ],
   "source": [
    "\"\"\"\n",
    "DON'T MODIFY ANYTHING IN THIS CELL\n",
    "\"\"\"\n",
    "%matplotlib inline\n",
    "%config InlineBackend.figure_format = 'retina'\n",
    "\n",
    "import tensorflow as tf\n",
    "import pickle\n",
    "import helper\n",
    "import random\n",
    "\n",
    "# Set batch size if not already set\n",
    "try:\n",
    "    if batch_size:\n",
    "        pass\n",
    "except NameError:\n",
    "    batch_size = 64\n",
    "\n",
    "save_model_path = './image_classification'\n",
    "n_samples = 4\n",
    "top_n_predictions = 3\n",
    "\n",
    "def test_model():\n",
    "    \"\"\"\n",
    "    Test the saved model against the test dataset\n",
    "    \"\"\"\n",
    "\n",
    "    test_features, test_labels = pickle.load(open('preprocess_training.p', mode='rb'))\n",
    "    loaded_graph = tf.Graph()\n",
    "\n",
    "    with tf.Session(graph=loaded_graph) as sess:\n",
    "        # Load model\n",
    "        loader = tf.train.import_meta_graph(save_model_path + '.meta')\n",
    "        loader.restore(sess, save_model_path)\n",
    "\n",
    "        # Get Tensors from loaded model\n",
    "        loaded_x = loaded_graph.get_tensor_by_name('x:0')\n",
    "        loaded_y = loaded_graph.get_tensor_by_name('y:0')\n",
    "        loaded_keep_prob = loaded_graph.get_tensor_by_name('keep_prob:0')\n",
    "        loaded_logits = loaded_graph.get_tensor_by_name('logits:0')\n",
    "        loaded_acc = loaded_graph.get_tensor_by_name('accuracy:0')\n",
    "        \n",
    "        # Get accuracy in batches for memory limitations\n",
    "        test_batch_acc_total = 0\n",
    "        test_batch_count = 0\n",
    "        \n",
    "        for train_feature_batch, train_label_batch in helper.batch_features_labels(test_features, test_labels, batch_size):\n",
    "            test_batch_acc_total += sess.run(\n",
    "                loaded_acc,\n",
    "                feed_dict={loaded_x: train_feature_batch, loaded_y: train_label_batch, loaded_keep_prob: 1.0})\n",
    "            test_batch_count += 1\n",
    "\n",
    "        print('Testing Accuracy: {}\\n'.format(test_batch_acc_total/test_batch_count))\n",
    "\n",
    "        # Print Random Samples\n",
    "        random_test_features, random_test_labels = tuple(zip(*random.sample(list(zip(test_features, test_labels)), n_samples)))\n",
    "        random_test_predictions = sess.run(\n",
    "            tf.nn.top_k(tf.nn.softmax(loaded_logits), top_n_predictions),\n",
    "            feed_dict={loaded_x: random_test_features, loaded_y: random_test_labels, loaded_keep_prob: 1.0})\n",
    "        helper.display_image_predictions(random_test_features, random_test_labels, random_test_predictions)\n",
    "\n",
    "\n",
    "test_model()"
   ]
  },
  {
   "cell_type": "markdown",
   "metadata": {
    "deletable": true,
    "editable": true
   },
   "source": [
    "## Why 50-80% Accuracy?\n",
    "You might be wondering why you can't get an accuracy any higher. First things first, 50% isn't bad for a simple CNN.  Pure guessing would get you 10% accuracy. However, you might notice people are getting scores [well above 80%](http://rodrigob.github.io/are_we_there_yet/build/classification_datasets_results.html#43494641522d3130).  That's because we haven't taught you all there is to know about neural networks. We still need to cover a few more techniques.\n",
    "## Submitting This Project\n",
    "When submitting this project, make sure to run all the cells before saving the notebook.  Save the notebook file as \"dlnd_image_classification.ipynb\" and save it as a HTML file under \"File\" -> \"Download as\".  Include the \"helper.py\" and \"problem_unittests.py\" files in your submission."
   ]
  },
  {
   "cell_type": "code",
   "execution_count": null,
   "metadata": {
    "collapsed": true,
    "deletable": true,
    "editable": true
   },
   "outputs": [],
   "source": []
  }
 ],
 "metadata": {
  "kernelspec": {
   "display_name": "Python 3",
   "language": "python",
   "name": "python3"
  },
  "language_info": {
   "codemirror_mode": {
    "name": "ipython",
    "version": 3
   },
   "file_extension": ".py",
   "mimetype": "text/x-python",
   "name": "python",
   "nbconvert_exporter": "python",
   "pygments_lexer": "ipython3",
   "version": "3.5.2"
  },
  "widgets": {
   "state": {},
   "version": "1.1.2"
  }
 },
 "nbformat": 4,
 "nbformat_minor": 0
}
